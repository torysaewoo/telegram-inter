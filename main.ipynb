{
 "cells": [
  {
   "cell_type": "code",
   "execution_count": 2,
   "metadata": {},
   "outputs": [
    {
     "name": "stdout",
     "output_type": "stream",
     "text": [
      "🤖 가수명 + 해시태그 생성 중...\n"
     ]
    },
    {
     "name": "stderr",
     "output_type": "stream",
     "text": [
      "100%|██████████| 10/10 [00:00<00:00, 7986.11it/s]\n"
     ]
    },
    {
     "name": "stdout",
     "output_type": "stream",
     "text": [
      "🤖 트위터 문구 생성 중...\n"
     ]
    },
    {
     "name": "stderr",
     "output_type": "stream",
     "text": [
      "100%|██████████| 10/10 [00:00<00:00, 6891.73it/s]\n"
     ]
    },
    {
     "name": "stdout",
     "output_type": "stream",
     "text": [
      "✅ 10개 티켓 업로드 완료\n",
      "\n",
      "📋 HOT 티켓 요약:\n",
      "               오픈시간                                                                    제목                                  가수명                                                                                      해시태그\n",
      "2025-07-14 20:00:00                                       2025 영탁 단독 콘서트 \"TAK SHOW4\" - 전주                                   영탁                      #영탁콘서트 #영탁 #TAKSHOW4 #전주콘서트 #영탁대리티켓팅 #대리티켓팅 #영탁팬 #콘서트티켓팅 #전주공연 #영탁공연\n",
      "2025-07-15 20:00:00                                     2025 AKMU STANDING CONCERT ［악동들］                      악동뮤지션 (악뮤, AKMU)                   #악뮤콘서트 #악동뮤지션 #AKMU #악뮤 #악뮤대리티켓팅 #악뮤콘서트2025 #악동들콘서트 #대리티켓팅 #악뮤팬 #콘서트티켓팅\n",
      "2025-07-15 20:00:00                                      뮤 내한공연 (MEW The Farewell Shows)                               뮤 (MEW)                          #뮤내한공연 #뮤콘서트 #뮤티켓팅 #뮤대리티켓팅 #뮤팬 #뮤음악 #콘서트대리 #티켓팅대행 #뮤직페스티벌 #뮤직라이브\n",
      "2025-07-16 14:00:00                                                          뮤지컬 〈맘마미아!〉                                 맘마미아!  #맘마미아뮤지컬 #맘마미아대리티켓팅 #뮤지컬맘마미아 #맘마미아티켓팅 #맘마미아콘서트 #맘마미아예매 #뮤지컬대리티켓팅 #맘마미아공연 #맘마미아티켓 #맘마미아팬덤\n",
      "2025-07-16 18:00:00                                                     그랜드 민트 페스티벌 2025                      그랜드 민트 페스티벌 2025          #그랜드민트페스티벌2025 #그랜드민트 #민트페스티벌 #콘서트대리티켓팅 #대리예매 #티켓팅대행 #페스티벌티켓 #콘서트예매 #음악축제 #공연티켓팅\n",
      "2025-07-17 18:00:00                                              너드커넥션 SUMMER LIVE, PULSE                                너드커넥션                  #너드커넥션콘서트 #너드커넥션 #SUMMERLIVE #PULSE #대리티켓팅 #콘서트티켓 #현장예매 #팬미팅 #음악공연 #티켓구매\n",
      "2025-07-23 12:00:00                        더 로즈(The Rose) Once Upon A WRLD Tour in Seoul                       더 로즈 (The Rose)                        #더로즈콘서트 #더로즈 #TheRose #더로즈서울 #서울콘서트 #대리티켓팅 #티켓구매 #콘서트대리 #티켓팅 #공연정보\n",
      "2025-07-23 19:00:00 Invitation from Gensokyo 2025 ~ Midnight Concerto (동방프로젝트 오케스트라 콘서트)               동방프로젝트 (Touhou Project)      #동방프로젝트콘서트 #동방프로젝트 #Gensokyo2025 #미드나잇콘체르토 #대리티켓팅 #클래식콘서트 #오케스트라 #콘서트대리 #티켓팅대행 #동방팬덤\n",
      "2025-07-25 18:00:00                                                 민트페스타 vol.78 SPIRITED                                민트페스타 #민트페스타 #민트페스타콘서트 #민트페스타대리티켓팅 #콘서트대리티켓팅 #대리티켓팅 #민트페스타vol78 #SPIRITED #콘서트예매 #공연대리예매 #티켓팅대행\n",
      "2025-07-30 20:00:00            TOMORROW X TOGETHER WORLD TOUR 〈ACT : TOMORROW〉  IN SEOUL  TOMORROW X TOGETHER (투모로우바이투게더, TXT)           #투바투콘서트 #투바투 #TXT #투모로우바이투게더 #대리티켓팅 #콘서트대리 #티켓팅대행 #서울콘서트 #투바투월드투어 #ACT_TOMORROW\n"
     ]
    }
   ],
   "source": [
    "\n",
    "\n",
    "import os\n",
    "import json\n",
    "import requests\n",
    "import pandas as pd\n",
    "from tqdm import tqdm\n",
    "from pathlib import Path\n",
    "from openai import OpenAI\n",
    "import gspread\n",
    "from oauth2client.service_account import ServiceAccountCredentials\n",
    "import random\n",
    "from datetime import datetime\n",
    "\n",
    "client = OpenAI(api_key=os.getenv(\"OPENAI_API_KEY\"))\n",
    "\n",
    "class InterparkTicketCrawler:\n",
    "    def __init__(self, creds='google.json', sheet_name='감사한 티켓팅 신청서'):\n",
    "        scope = ['https://spreadsheets.google.com/feeds', 'https://www.googleapis.com/auth/drive']\n",
    "        creds = ServiceAccountCredentials.from_json_keyfile_name(creds, scope)\n",
    "        self.sheet = gspread.authorize(creds).open(sheet_name).worksheet('Hot')\n",
    "\n",
    "        # 캐시 파일 경로\n",
    "        self.artist_cache_path = Path('artist_cache.json')\n",
    "        self.hashtag_cache_path = Path('hashtag_cache.json')\n",
    "        self.tweet_cache_path = Path('tweet_cache.json')\n",
    "\n",
    "        # 캐시 로딩\n",
    "        self.artist_cache = self.load_cache(self.artist_cache_path)\n",
    "        self.hashtag_cache = self.load_cache(self.hashtag_cache_path)\n",
    "        self.tweet_cache = self.load_cache(self.tweet_cache_path)\n",
    "        \n",
    "    def load_cache(self, path: Path) -> dict:\n",
    "        if path.exists():\n",
    "            try:\n",
    "                with open(path, 'r', encoding='utf-8') as f:\n",
    "                    return json.load(f)\n",
    "            except:\n",
    "                pass\n",
    "        return {}\n",
    "\n",
    "    def save_cache(self, cache: dict, path: Path):\n",
    "        with open(path, 'w', encoding='utf-8') as f:\n",
    "            json.dump(cache, f, ensure_ascii=False, indent=2)\n",
    "\n",
    "    def fetch_data(self):\n",
    "        url = \"https://tickets.interpark.com/contents/api/open-notice/notice-list\"\n",
    "        params = {\"goodsGenre\": \"ALL\", \"goodsRegion\": \"ALL\", \"offset\": 0, \"pageSize\": 400, \"sorting\": \"OPEN_ASC\"}\n",
    "        headers = {\n",
    "            \"user-agent\": \"Mozilla/5.0\",\n",
    "            \"referer\": \"https://tickets.interpark.com/contents/notice\"\n",
    "        }\n",
    "        r = requests.get(url, params=params, headers=headers)\n",
    "        r.raise_for_status()\n",
    "        return r.json()\n",
    "\n",
    "    def filter_hot(self, data):\n",
    "        hot = []\n",
    "        for d in data:\n",
    "            if d.get('goodsGenreStr') == '뮤지컬' and not d.get('isHot'):\n",
    "                continue\n",
    "            if d.get('goodsGenreStr') != '뮤지컬' and d.get('viewCount', 0) <= 1000:\n",
    "                continue\n",
    "            hot.append({\n",
    "                '오픈시간': d.get('openDateStr', ''),\n",
    "                '조회수': d.get('viewCount', 0),\n",
    "                '예매타입': d.get('openTypeStr', ''),\n",
    "                '제목': d.get('title', ''),\n",
    "                '예매코드': d.get('goodsCode', ''),\n",
    "                '장르': d.get('goodsGenreStr', ''),\n",
    "                'Image': d.get('posterImageUrl', '')\n",
    "            })\n",
    "        return hot\n",
    "\n",
    "    def extract_artist(self, title: str) -> str:\n",
    "        if title in self.artist_cache:\n",
    "            return self.artist_cache[title]\n",
    "\n",
    "        prompt = f\"\"\"\n",
    "아래는 콘서트 제목이야. 여기서 가수명이나 그룹명만 간단히 추출해줘. 뮤지컬일 경우 뮤지컬 제목만 추출해줘.**영문일 경우 한글도 같이 작성해야되고, 약어가 있으면 풀네임이랑 약어도 같이 작성해야해**\n",
    "예시: 악동뮤지션 (악뮤, AKMU)\n",
    "제목: {title}\n",
    "가수명 or 뮤지컬 제목:\"\"\"\n",
    "\n",
    "        try:\n",
    "            res = client.chat.completions.create(\n",
    "                model=\"gpt-4o\",\n",
    "                messages=[{\"role\": \"user\", \"content\": prompt}],\n",
    "                temperature=0.2,\n",
    "            )\n",
    "            artist = res.choices[0].message.content.strip().strip('\"')\n",
    "            self.artist_cache[title] = artist\n",
    "            return artist\n",
    "        except Exception as e:\n",
    "            print(f\"❌ OpenAI 오류 (가수명): {e}\")\n",
    "            return \"불명\"\n",
    "\n",
    "    def generate_hashtags(self, title: str, artist: str, genre: str) -> str:\n",
    "        key = f\"{title}\"\n",
    "        if key in self.hashtag_cache:\n",
    "            return self.hashtag_cache[key]\n",
    "\n",
    "        prompt = f\"\"\"\n",
    "콘서트 제목: {title}\n",
    "가수 또는 뮤지컬 제목: {artist}\n",
    "장르: {genre}\n",
    "\n",
    "위 콘서트를 대리티켓팅 목적으로 트위터에 해시태그 10개를 한국어로 작성해줘.\n",
    "형식: #블랙핑크콘서트 #블랙핑크 #BLACKPINK #블핑댈티 #대리티켓팅\n",
    "조건: '#' 포함하고 띄어쓰기 없이, 한 줄로 콤마 없이 출력해줘.\n",
    "\"\"\"\n",
    "\n",
    "        try:\n",
    "            res = client.chat.completions.create(\n",
    "                model=\"gpt-4o\",\n",
    "                messages=[{\"role\": \"user\", \"content\": prompt}],\n",
    "                temperature=0.5,\n",
    "            )\n",
    "            hashtags = res.choices[0].message.content.strip()\n",
    "            self.hashtag_cache[key] = hashtags\n",
    "            return hashtags\n",
    "        except Exception as e:\n",
    "            print(f\"❌ OpenAI 오류 (해시태그): {e}\")\n",
    "            return \"#대리티켓팅\"\n",
    "\n",
    "    def add_ai_columns(self, df):\n",
    "        print(\"🤖 가수명 + 해시태그 생성 중...\")\n",
    "        artists = []\n",
    "        hashtags = []\n",
    "\n",
    "        for _, row in tqdm(df.iterrows(), total=len(df)):\n",
    "            title = row['제목']\n",
    "            genre = row['장르']\n",
    "\n",
    "            artist = self.extract_artist(title)\n",
    "            hashtag = self.generate_hashtags(title, artist, genre)\n",
    "\n",
    "            artists.append(artist)\n",
    "            hashtags.append(hashtag)\n",
    "\n",
    "        df['가수명'] = artists\n",
    "        df['해시태그'] = hashtags\n",
    "\n",
    "        self.save_cache(self.artist_cache, self.artist_cache_path)\n",
    "        self.save_cache(self.hashtag_cache, self.hashtag_cache_path)\n",
    "\n",
    "        return df\n",
    "    \n",
    "    def add_twitter_columns(self, df):\n",
    "        print(\"🤖 트위터 문구 생성 중...\")\n",
    "        with open('tweet_templates.json', 'r', encoding='utf-8') as f:\n",
    "            templates = json.load(f)\n",
    "        \n",
    "        tweet_contents = []\n",
    "        for _, row in tqdm(df.iterrows(), total=len(df)):\n",
    "            if row['조회수'] > 10000:\n",
    "                template = random.choice(templates)\n",
    "            else:\n",
    "                template = {\"content\": \"{title}\\n\\n🚨 {singer} 대리티켓팅(댈티)\\n티켓오픈시간: {open_time}\\n상담 링크: https://open.kakao.com/o/sAJ8m2Ah\\n\\n{hash_tag} #평생한번 #놓치면후회 #앞열보장\"}\n",
    "            \n",
    "            # 시간 치환\n",
    "            \n",
    "            title = row['제목']\n",
    "            singer = row['가수명']\n",
    "            \n",
    "            # 오픈시간이 문자열인 경우 datetime으로 변환\n",
    "            open_time_raw = row['오픈시간']\n",
    "            if isinstance(open_time_raw, str):\n",
    "                # 문자열을 datetime으로 변환\n",
    "                open_time_dt = datetime.strptime(open_time_raw, '%Y-%m-%d %H:%M:%S')\n",
    "                open_time = open_time_dt.strftime('%m월 %d일 %p %I시').replace('AM', '오전').replace('PM', '오후').replace('0', '')\n",
    "            else:\n",
    "                # 이미 datetime 객체인 경우\n",
    "                open_time = open_time_raw.strftime('%m월 %d일 %p %I시').replace('AM', '오전').replace('PM', '오후').replace('0', '')\n",
    "            \n",
    "            hash_tag = row['해시태그']\n",
    "            content = template['content'].replace(\"{open_time}\", open_time).replace(\"{title}\", title).replace(\"{singer}\", singer).replace(\"{hash_tag}\", hash_tag)\n",
    "            tweet_contents.append(content)\n",
    "\n",
    "        df['트위터'] = tweet_contents\n",
    "        self.save_cache(self.tweet_cache, self.tweet_cache_path)\n",
    "        return df\n",
    "        \n",
    "\n",
    "    def update_sheet(self, df):\n",
    "        self.sheet.clear()\n",
    "        if df.empty:\n",
    "            print(\"📭 HOT 티켓 없음\")\n",
    "            return\n",
    "        self.sheet.append_row(list(df.columns))\n",
    "        for row in df.values.tolist():\n",
    "            self.sheet.append_row(row)\n",
    "        print(f\"✅ {len(df)}개 티켓 업로드 완료\")\n",
    "\n",
    "    def run(self):\n",
    "        raw = self.fetch_data()\n",
    "        hot = self.filter_hot(raw)\n",
    "        df = pd.DataFrame(hot)\n",
    "        if df.empty:\n",
    "            return df\n",
    "        df = df.sort_values(by='오픈시간')\n",
    "        df = self.add_ai_columns(df)\n",
    "        df = self.add_twitter_columns(df)\n",
    "        self.update_sheet(df)\n",
    "        return df\n",
    "\n",
    "if __name__ == \"__main__\":\n",
    "    df = InterparkTicketCrawler().run()\n",
    "    if not df.empty:\n",
    "        print(\"\\n📋 HOT 티켓 요약:\")\n",
    "        print(df[['오픈시간', '제목', '가수명', '해시태그']].to_string(index=False))"
   ]
  },
  {
   "cell_type": "code",
   "execution_count": 3,
   "metadata": {},
   "outputs": [
    {
     "name": "stderr",
     "output_type": "stream",
     "text": [
      "  0%|          | 0/10 [00:00<?, ?it/s]"
     ]
    },
    {
     "name": "stdout",
     "output_type": "stream",
     "text": [
      "https://twitter.com/gamsahanticket/status/1943957815670059515\n",
      "🔄 2025 영탁 단독 콘서트 \"TAK SHOW4\" - 전주 트윗 게시 완료\n"
     ]
    },
    {
     "name": "stderr",
     "output_type": "stream",
     "text": [
      " 10%|█         | 1/10 [01:12<10:55, 72.83s/it]"
     ]
    },
    {
     "name": "stdout",
     "output_type": "stream",
     "text": [
      "🔄 71초 대기 후 다음 트윗 게시\n",
      "https://twitter.com/gamsahanticket/status/1943958122655297983\n",
      "🔄 2025 AKMU STANDING CONCERT ［악동들］  트윗 게시 완료\n"
     ]
    },
    {
     "name": "stderr",
     "output_type": "stream",
     "text": [
      " 20%|██        | 2/10 [02:40<10:50, 81.29s/it]"
     ]
    },
    {
     "name": "stdout",
     "output_type": "stream",
     "text": [
      "🔄 85초 대기 후 다음 트윗 게시\n",
      "https://twitter.com/gamsahanticket/status/1943958484946698477\n",
      "🔄 뮤 내한공연 (MEW The Farewell Shows)  트윗 게시 완료\n"
     ]
    },
    {
     "name": "stderr",
     "output_type": "stream",
     "text": [
      " 30%|███       | 3/10 [04:07<09:47, 83.97s/it]"
     ]
    },
    {
     "name": "stdout",
     "output_type": "stream",
     "text": [
      "🔄 86초 대기 후 다음 트윗 게시\n",
      "https://twitter.com/gamsahanticket/status/1943958849926705512\n",
      "🔄 뮤지컬 〈맘마미아!〉  트윗 게시 완료\n"
     ]
    },
    {
     "name": "stderr",
     "output_type": "stream",
     "text": [
      " 40%|████      | 4/10 [05:11<07:36, 76.12s/it]"
     ]
    },
    {
     "name": "stdout",
     "output_type": "stream",
     "text": [
      "🔄 63초 대기 후 다음 트윗 게시\n",
      "https://twitter.com/gamsahanticket/status/1943959123772813728\n",
      "🔄 그랜드 민트 페스티벌 2025  트윗 게시 완료\n"
     ]
    },
    {
     "name": "stderr",
     "output_type": "stream",
     "text": [
      " 50%|█████     | 5/10 [06:14<05:57, 71.55s/it]"
     ]
    },
    {
     "name": "stdout",
     "output_type": "stream",
     "text": [
      "🔄 61초 대기 후 다음 트윗 게시\n",
      "https://twitter.com/gamsahanticket/status/1943959388047519854\n",
      "🔄 너드커넥션 SUMMER LIVE, PULSE 트윗 게시 완료\n"
     ]
    },
    {
     "name": "stderr",
     "output_type": "stream",
     "text": [
      " 60%|██████    | 6/10 [07:28<04:49, 72.34s/it]"
     ]
    },
    {
     "name": "stdout",
     "output_type": "stream",
     "text": [
      "🔄 72초 대기 후 다음 트윗 게시\n",
      "https://twitter.com/gamsahanticket/status/1943959702075060648\n",
      "🔄 더 로즈(The Rose) Once Upon A WRLD Tour in Seoul  트윗 게시 완료\n"
     ]
    },
    {
     "name": "stderr",
     "output_type": "stream",
     "text": [
      " 70%|███████   | 7/10 [08:53<03:49, 76.60s/it]"
     ]
    },
    {
     "name": "stdout",
     "output_type": "stream",
     "text": [
      "🔄 82초 대기 후 다음 트윗 게시\n",
      "https://twitter.com/gamsahanticket/status/1943960055210229936\n",
      "🔄 Invitation from Gensokyo 2025 ~ Midnight Concerto (동방프로젝트 오케스트라 콘서트)  트윗 게시 완료\n"
     ]
    },
    {
     "name": "stderr",
     "output_type": "stream",
     "text": [
      " 80%|████████  | 8/10 [10:17<02:37, 78.84s/it]"
     ]
    },
    {
     "name": "stdout",
     "output_type": "stream",
     "text": [
      "🔄 82초 대기 후 다음 트윗 게시\n",
      "https://twitter.com/gamsahanticket/status/1943960405489201364\n",
      "🔄 민트페스타 vol.78 SPIRITED 트윗 게시 완료\n"
     ]
    },
    {
     "name": "stderr",
     "output_type": "stream",
     "text": [
      " 90%|█████████ | 9/10 [11:38<01:19, 79.42s/it]"
     ]
    },
    {
     "name": "stdout",
     "output_type": "stream",
     "text": [
      "🔄 79초 대기 후 다음 트윗 게시\n",
      "https://twitter.com/gamsahanticket/status/1943960743269085360\n",
      "🔄 TOMORROW X TOGETHER WORLD TOUR 〈ACT : TOMORROW〉  IN SEOUL  트윗 게시 완료\n"
     ]
    },
    {
     "name": "stderr",
     "output_type": "stream",
     "text": [
      "100%|██████████| 10/10 [13:09<00:00, 78.98s/it]"
     ]
    },
    {
     "name": "stdout",
     "output_type": "stream",
     "text": [
      "🔄 90초 대기 후 다음 트윗 게시\n"
     ]
    },
    {
     "name": "stderr",
     "output_type": "stream",
     "text": [
      "\n"
     ]
    }
   ],
   "source": [
    "import os\n",
    "import tweepy\n",
    "import requests\n",
    "from dotenv import load_dotenv\n",
    "import time\n",
    "import random\n",
    "from tqdm import tqdm\n",
    "\n",
    "load_dotenv()\n",
    "\n",
    "class PostTweet:\n",
    "    def __init__(self):\n",
    "        auth = tweepy.OAuthHandler(os.getenv('TWITTER_API_KEY'), os.getenv('TWITTER_API_SECRET'))\n",
    "        auth.set_access_token(os.getenv('TWITTER_ACCESS_TOKEN'), os.getenv('TWITTER_ACCESS_TOKEN_SECRET'))\n",
    "        self.api = tweepy.API(auth)\n",
    "        self.client = tweepy.Client(\n",
    "            consumer_key=os.getenv('TWITTER_API_KEY'),\n",
    "            consumer_secret=os.getenv('TWITTER_API_SECRET'),\n",
    "            access_token=os.getenv('TWITTER_ACCESS_TOKEN'),\n",
    "            access_token_secret=os.getenv('TWITTER_ACCESS_TOKEN_SECRET')\n",
    "        )\n",
    "\n",
    "    def _download_image(self, url):\n",
    "        r = requests.get(url, stream=True)\n",
    "        if r.status_code == 200:\n",
    "            path = f\"image/{url.split('/')[-1]}\"\n",
    "            with open(path, \"wb\") as f:\n",
    "                for chunk in r.iter_content(1024):\n",
    "                    f.write(chunk)\n",
    "            return path\n",
    "        return None\n",
    "\n",
    "    def post(self, text, image_url=None):\n",
    "        media_ids = []\n",
    "        if image_url:\n",
    "            path = self._download_image(image_url)\n",
    "            if path:\n",
    "                media = self.api.media_upload(path)\n",
    "                media_ids.append(media.media_id)\n",
    "\n",
    "        tweet = self.client.create_tweet(text=text, media_ids=media_ids if media_ids else None)\n",
    "        print(f\"https://twitter.com/gamsahanticket/status/{tweet.data['id']}\")\n",
    "\n",
    "\n",
    "for _, row in tqdm(df.iterrows(), total=len(df)):\n",
    "    title = row['제목']\n",
    "    text = row['트위터']\n",
    "    image_url = row['Image']\n",
    "    PostTweet().post(text, image_url)\n",
    "    print(f\"🔄 {title} 트윗 게시 완료\")\n",
    "    sleep_time = random.randint(60, 90)\n",
    "    \n",
    "    # 실시간 카운트다운\n",
    "    for remaining in range(sleep_time, 0, -1):\n",
    "        print(f\"\\r⏰ 다음 트윗까지 {remaining}초 남음...\", end=\"\", flush=True)\n",
    "        time.sleep(1)\n",
    "    \n",
    "    print(f\"\\n🔄 {sleep_time}초 대기 완료, 다음 트윗 게시\")\n"
   ]
  },
  {
   "cell_type": "code",
   "execution_count": null,
   "metadata": {},
   "outputs": [],
   "source": []
  }
 ],
 "metadata": {
  "kernelspec": {
   "display_name": "venv",
   "language": "python",
   "name": "python3"
  },
  "language_info": {
   "codemirror_mode": {
    "name": "ipython",
    "version": 3
   },
   "file_extension": ".py",
   "mimetype": "text/x-python",
   "name": "python",
   "nbconvert_exporter": "python",
   "pygments_lexer": "ipython3",
   "version": "3.12.2"
  }
 },
 "nbformat": 4,
 "nbformat_minor": 2
}
