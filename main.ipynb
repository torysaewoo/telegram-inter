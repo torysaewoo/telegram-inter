{
 "cells": [
  {
   "cell_type": "code",
   "execution_count": 1,
   "metadata": {},
   "outputs": [
    {
     "name": "stdout",
     "output_type": "stream",
     "text": [
      "\n",
      "📋 HOT 티켓 요약:\n",
      "               오픈시간   조회수                                                                              제목      장르\n",
      "                     4901                                                       2025 데미소다 콘서트, DEMI-CON!      콘서트\n",
      "2025-07-21 09:00:00    71                                                              리얼공룡쇼 〈포켓다이노〉 - 당진     뮤지컬\n",
      "2025-07-21 09:00:00  1084                                                                      뮤지컬〈바리케이드〉     뮤지컬\n",
      "2025-07-21 09:00:00   103                                                             리얼공룡쇼 〈포켓다이노〉 - 대전      뮤지컬\n",
      "2025-07-21 10:00:00   133                                                                  몽글몽글 꿈공장 - 이천  무용/전통예술\n",
      "2025-07-21 10:00:00   102                                                    뮤지컬 빨간 내복 야코〈골드버튼을 향해서!〉-대전      뮤지컬\n",
      "2025-07-21 10:00:00    78                                                         2025 가족매직쇼〈매직키즈마술쇼〉-평택      뮤지컬\n",
      "2025-07-21 10:00:00   121                                            가족뮤지컬 〈레인보우 버블젬-흩어진 버블젬을 찾아라!〉 - 대전      뮤지컬\n",
      "2025-07-21 14:00:00   727                                               2025 빈예서 콘서트 ［첫 번째 이야기 : 추억］ - 부산     콘서트\n",
      "2025-07-21 14:00:00  1172                                                                       연극 〈보도지침〉      연극\n",
      "2025-07-21 14:00:00  1102                                                          김수로 Curated19 연극 〈펑크락〉      연극\n",
      "2025-07-21 14:00:00   359                                                                        공터의 에티켓       연극\n",
      "2025-07-21 14:00:00   125                                                              윤미라무용단〈무악지우〉-  안양  무용/전통예술\n",
      "2025-07-21 16:00:00  1069                                                    살롱 드 캬바레 - 뮤지컬 〈잔 다르크〉 트라이아웃     뮤지컬\n",
      "2025-07-21 20:00:00  2452                                          2025 RESCENE 1st FAN-CON ［Project 326］     콘서트\n",
      "2025-07-22 10:00:00   202                                                      2025 카즈미 타테이시 트리오 내한공연(인천)     콘서트\n",
      "2025-07-22 10:00:00    39                                                     2025 라이브가족뮤지컬〈프린세스공주〉 - 대구      뮤지컬\n",
      "2025-07-22 10:00:00    42                                                       2025 라이브가족뮤지컬〈오즈의마법사〉-대구      뮤지컬\n",
      "2025-07-22 10:00:00  1113                                                 ［NOL 스페셜 스테이지］ 태양의서커스 〈쿠자〉 - 부산     뮤지컬\n",
      "2025-07-22 10:00:00   398                                             2025 가족뮤지컬 〈에그박사 - 해적 보물섬의 비밀〉- 부산      뮤지컬\n",
      "2025-07-22 11:00:00   128                                         ［ 부산 ］ 뮤지컬 한글용사 아이야 새로운 이야기 〈달라도 친구야!〉      뮤지컬\n",
      "2025-07-22 12:00:00  5214                                            Jacky Cheung 60+ Concert Tour Seoul      콘서트\n",
      "2025-07-22 13:00:00  1610                                                      ［NOL 스페셜 스테이지］ 뮤지컬 〈맘마미아!〉     뮤지컬\n",
      "2025-07-22 14:00:00   102                                                             뮤지컬 〈사랑의 하츄핑〉 - 목포      뮤지컬\n",
      "2025-07-22 14:00:00  1036                                                                 연극 〈보이즈 인 더 밴드〉     뮤지컬\n",
      "2025-07-22 14:00:00  1062                                                                  뮤지컬 〈해피 오! 해피〉     뮤지컬\n",
      "2025-07-22 14:00:00  2813                                                          뮤지컬 〈브로드웨이 42번가〉 - 부산      뮤지컬\n",
      "2025-07-22 15:00:00   300                                                                      뮤지컬 〈리틀잭〉      뮤지컬\n",
      "2025-07-22 15:00:00   324                                                        ［강남 퇴근길 콘서트］ 앙상블로 듣는 지브리 클래식/오페라\n",
      "2025-07-22 20:00:00  1706                                                   2025 유채훈 크로스오버 콘서트 〈IL MONDO〉     콘서트\n",
      "2025-07-23 12:00:00  4621                                  더 로즈(The Rose) Once Upon A WRLD Tour in Seoul      콘서트\n",
      "2025-07-23 16:00:00  1468                                                              PEAKBOX 2025 : 사랑      콘서트\n",
      "2025-07-23 17:00:00  1330                                                               PEAKBOX 2025 : 청춘     콘서트\n",
      "2025-07-23 18:00:00  1234                                                               PEAKBOX 2025 : 행복     콘서트\n",
      "2025-07-23 19:00:00  4319           Invitation from Gensokyo 2025 ~ Midnight Concerto (동방프로젝트 오케스트라 콘서트)  클래식/오페라\n",
      "2025-07-23 20:00:00  9817                                                  2025 실리카겔 단독공연 Syn.THE.Size X      콘서트\n",
      "2025-07-24 11:00:00  1602                                                                      뮤지컬 〈프리다〉      뮤지컬\n",
      "2025-07-24 14:00:00  2808                                     뮤지컬 〈알라딘〉 한국 초연 - 부산 (ALADDIN The Musical)      뮤지컬\n",
      "2025-07-25 11:00:00  4286                                             연극 〈에쿠우스 ’EQUUS’〉: 한국 초연 50주년 기념공연       연극\n",
      "2025-07-25 14:00:00   369                                                          테너 김성현 리사이틀 : Prologue 클래식/오페라\n",
      "2025-07-25 14:00:00  1316                                                                     연극 〈프리마 파시〉      연극\n",
      "2025-07-25 15:00:00   135                                                   2025 사운드 아카이브 : 디 오케스트라 (광주)  클래식/오페라\n",
      "2025-07-25 18:00:00  8169                                                           민트페스타 vol.78 SPIRITED     콘서트\n",
      "2025-07-28 14:00:00   516                                           히사이시 조 영화음악 콘서트 2025_Chamber Edition  클래식/오페라\n",
      "2025-07-28 20:00:00  3267 2025 TEEN TOP WE GONNA ROCK IT DROP IT TOP IT HEY DON'T STOP IT POP IT X 2 LIVE     콘서트\n",
      "2025-07-30 20:00:00 41409                      TOMORROW X TOGETHER WORLD TOUR 〈ACT : TOMORROW〉  IN SEOUL      콘서트\n",
      "2025-08-04 19:00:00   837                                                     윤석철트리오 ＆ H ZETTRIO in SEOUL     콘서트\n"
     ]
    }
   ],
   "source": [
    "\n",
    "\n",
    "import os\n",
    "import json\n",
    "import requests\n",
    "import pandas as pd\n",
    "from tqdm import tqdm\n",
    "from pathlib import Path\n",
    "from openai import OpenAI\n",
    "import gspread\n",
    "from oauth2client.service_account import ServiceAccountCredentials\n",
    "import random\n",
    "from datetime import datetime\n",
    "\n",
    "client = OpenAI(api_key=os.getenv(\"OPENAI_API_KEY\"))\n",
    "\n",
    "class InterparkTicketCrawler:\n",
    "    def __init__(self, creds='google.json', sheet_name='감사한 티켓팅 신청서'):\n",
    "        scope = ['https://spreadsheets.google.com/feeds', 'https://www.googleapis.com/auth/drive']\n",
    "        creds = ServiceAccountCredentials.from_json_keyfile_name(creds, scope)\n",
    "        self.sheet = gspread.authorize(creds).open(sheet_name).worksheet('Hot')\n",
    "\n",
    "        # 캐시 파일 경로\n",
    "        self.artist_cache_path = Path('artist_cache.json')\n",
    "        self.hashtag_cache_path = Path('hashtag_cache.json')\n",
    "        self.tweet_cache_path = Path('tweet_cache.json')\n",
    "\n",
    "        # 캐시 로딩\n",
    "        self.artist_cache = self.load_cache(self.artist_cache_path)\n",
    "        self.hashtag_cache = self.load_cache(self.hashtag_cache_path)\n",
    "        self.tweet_cache = self.load_cache(self.tweet_cache_path)\n",
    "        \n",
    "    def load_cache(self, path: Path) -> dict:\n",
    "        if path.exists():\n",
    "            try:\n",
    "                with open(path, 'r', encoding='utf-8') as f:\n",
    "                    return json.load(f)\n",
    "            except:\n",
    "                pass\n",
    "        return {}\n",
    "\n",
    "    def save_cache(self, cache: dict, path: Path):\n",
    "        with open(path, 'w', encoding='utf-8') as f:\n",
    "            json.dump(cache, f, ensure_ascii=False, indent=2)\n",
    "\n",
    "    def fetch_data(self):\n",
    "        url = \"https://tickets.interpark.com/contents/api/open-notice/notice-list\"\n",
    "        params = {\"goodsGenre\": \"ALL\", \"goodsRegion\": \"ALL\", \"offset\": 0, \"pageSize\": 400, \"sorting\": \"OPEN_ASC\"}\n",
    "        headers = {\n",
    "            \"user-agent\": \"Mozilla/5.0\",\n",
    "            \"referer\": \"https://tickets.interpark.com/contents/notice\"\n",
    "        }\n",
    "        r = requests.get(url, params=params, headers=headers)\n",
    "        r.raise_for_status()\n",
    "        return r.json()\n",
    "\n",
    "    def filter_hot(self, data):\n",
    "        hot = []\n",
    "        for d in data:\n",
    "            hot.append({\n",
    "                '오픈시간': d.get('openDateStr', ''),\n",
    "                '조회수': d.get('viewCount', 0),\n",
    "                '예매타입': d.get('openTypeStr', ''),\n",
    "                '제목': d.get('title', ''),\n",
    "                '예매코드': d.get('goodsCode', ''),\n",
    "                '장르': d.get('goodsGenreStr', ''),\n",
    "                'Image': d.get('posterImageUrl', '')\n",
    "            })\n",
    "        return hot\n",
    "\n",
    "\n",
    "    def run(self):\n",
    "        raw = self.fetch_data()\n",
    "        hot = self.filter_hot(raw)\n",
    "        df = pd.DataFrame(hot)\n",
    "        if df.empty:\n",
    "            return df\n",
    "        df = df.sort_values(by='오픈시간')\n",
    "        \n",
    "        return df\n",
    "\n",
    "df = InterparkTicketCrawler().run()\n",
    "df.to_csv('all_list.csv', index=False)\n",
    "if not df.empty:\n",
    "    print(\"\\n📋 HOT 티켓 요약:\")\n",
    "    print(df[['오픈시간', '조회수','제목',  '장르']].to_string(index=False))"
   ]
  },
  {
   "cell_type": "code",
   "execution_count": 2,
   "metadata": {},
   "outputs": [
    {
     "data": {
      "text/plain": [
       "장르\n",
       "뮤지컬        20\n",
       "콘서트        15\n",
       "연극          5\n",
       "클래식/오페라     5\n",
       "무용/전통예술     2\n",
       "Name: count, dtype: int64"
      ]
     },
     "execution_count": 2,
     "metadata": {},
     "output_type": "execute_result"
    }
   ],
   "source": [
    "\n",
    "df['장르'].value_counts()"
   ]
  },
  {
   "cell_type": "code",
   "execution_count": 3,
   "metadata": {},
   "outputs": [
    {
     "data": {
      "text/html": [
       "<div>\n",
       "<style scoped>\n",
       "    .dataframe tbody tr th:only-of-type {\n",
       "        vertical-align: middle;\n",
       "    }\n",
       "\n",
       "    .dataframe tbody tr th {\n",
       "        vertical-align: top;\n",
       "    }\n",
       "\n",
       "    .dataframe thead th {\n",
       "        text-align: right;\n",
       "    }\n",
       "</style>\n",
       "<table border=\"1\" class=\"dataframe\">\n",
       "  <thead>\n",
       "    <tr style=\"text-align: right;\">\n",
       "      <th></th>\n",
       "      <th>오픈시간</th>\n",
       "      <th>조회수</th>\n",
       "      <th>예매타입</th>\n",
       "      <th>제목</th>\n",
       "      <th>예매코드</th>\n",
       "      <th>장르</th>\n",
       "      <th>Image</th>\n",
       "    </tr>\n",
       "  </thead>\n",
       "  <tbody>\n",
       "    <tr>\n",
       "      <th>44</th>\n",
       "      <td>2025-07-30 20:00:00</td>\n",
       "      <td>41409</td>\n",
       "      <td>일반예매</td>\n",
       "      <td>TOMORROW X TOGETHER WORLD TOUR 〈ACT : TOMORROW...</td>\n",
       "      <td>25008966</td>\n",
       "      <td>콘서트</td>\n",
       "      <td>https://ticketimage.interpark.com/Play/image/l...</td>\n",
       "    </tr>\n",
       "    <tr>\n",
       "      <th>34</th>\n",
       "      <td>2025-07-23 20:00:00</td>\n",
       "      <td>9817</td>\n",
       "      <td>일반예매</td>\n",
       "      <td>2025 실리카겔 단독공연 Syn.THE.Size X</td>\n",
       "      <td></td>\n",
       "      <td>콘서트</td>\n",
       "      <td>https://ticketimage.interpark.com/TicketImage/...</td>\n",
       "    </tr>\n",
       "    <tr>\n",
       "      <th>41</th>\n",
       "      <td>2025-07-25 18:00:00</td>\n",
       "      <td>8169</td>\n",
       "      <td>일반예매</td>\n",
       "      <td>민트페스타 vol.78 SPIRITED</td>\n",
       "      <td></td>\n",
       "      <td>콘서트</td>\n",
       "      <td>https://ticketimage.interpark.com/TicketImage/...</td>\n",
       "    </tr>\n",
       "    <tr>\n",
       "      <th>20</th>\n",
       "      <td>2025-07-22 12:00:00</td>\n",
       "      <td>5214</td>\n",
       "      <td>일반예매</td>\n",
       "      <td>Jacky Cheung 60+ Concert Tour Seoul</td>\n",
       "      <td>25010261</td>\n",
       "      <td>콘서트</td>\n",
       "      <td>https://ticketimage.interpark.com/Play/image/l...</td>\n",
       "    </tr>\n",
       "    <tr>\n",
       "      <th>46</th>\n",
       "      <td></td>\n",
       "      <td>4901</td>\n",
       "      <td>일반예매</td>\n",
       "      <td>2025 데미소다 콘서트, DEMI-CON!</td>\n",
       "      <td></td>\n",
       "      <td>콘서트</td>\n",
       "      <td>https://ticketimage.interpark.com/TicketImage/...</td>\n",
       "    </tr>\n",
       "    <tr>\n",
       "      <th>29</th>\n",
       "      <td>2025-07-23 12:00:00</td>\n",
       "      <td>4621</td>\n",
       "      <td>일반예매</td>\n",
       "      <td>더 로즈(The Rose) Once Upon A WRLD Tour in Seoul</td>\n",
       "      <td>25009724</td>\n",
       "      <td>콘서트</td>\n",
       "      <td>https://ticketimage.interpark.com/Play/image/l...</td>\n",
       "    </tr>\n",
       "    <tr>\n",
       "      <th>43</th>\n",
       "      <td>2025-07-28 20:00:00</td>\n",
       "      <td>3267</td>\n",
       "      <td>일반예매</td>\n",
       "      <td>2025 TEEN TOP WE GONNA ROCK IT DROP IT TOP IT ...</td>\n",
       "      <td></td>\n",
       "      <td>콘서트</td>\n",
       "      <td>https://ticketimage.interpark.com/TicketImage/...</td>\n",
       "    </tr>\n",
       "    <tr>\n",
       "      <th>13</th>\n",
       "      <td>2025-07-21 20:00:00</td>\n",
       "      <td>2452</td>\n",
       "      <td>일반예매</td>\n",
       "      <td>2025 RESCENE 1st FAN-CON ［Project 326］</td>\n",
       "      <td>25010172</td>\n",
       "      <td>콘서트</td>\n",
       "      <td>https://ticketimage.interpark.com/Play/image/l...</td>\n",
       "    </tr>\n",
       "    <tr>\n",
       "      <th>28</th>\n",
       "      <td>2025-07-22 20:00:00</td>\n",
       "      <td>1706</td>\n",
       "      <td>일반예매</td>\n",
       "      <td>2025 유채훈 크로스오버 콘서트 〈IL MONDO〉</td>\n",
       "      <td></td>\n",
       "      <td>콘서트</td>\n",
       "      <td>https://ticketimage.interpark.com/TicketImage/...</td>\n",
       "    </tr>\n",
       "    <tr>\n",
       "      <th>30</th>\n",
       "      <td>2025-07-23 16:00:00</td>\n",
       "      <td>1468</td>\n",
       "      <td>일반예매</td>\n",
       "      <td>PEAKBOX 2025 : 사랑</td>\n",
       "      <td>25010465</td>\n",
       "      <td>콘서트</td>\n",
       "      <td>https://ticketimage.interpark.com/Play/image/l...</td>\n",
       "    </tr>\n",
       "    <tr>\n",
       "      <th>31</th>\n",
       "      <td>2025-07-23 17:00:00</td>\n",
       "      <td>1330</td>\n",
       "      <td>일반예매</td>\n",
       "      <td>PEAKBOX 2025 : 청춘</td>\n",
       "      <td>25010343</td>\n",
       "      <td>콘서트</td>\n",
       "      <td>https://ticketimage.interpark.com/Play/image/l...</td>\n",
       "    </tr>\n",
       "    <tr>\n",
       "      <th>32</th>\n",
       "      <td>2025-07-23 18:00:00</td>\n",
       "      <td>1234</td>\n",
       "      <td>일반예매</td>\n",
       "      <td>PEAKBOX 2025 : 행복</td>\n",
       "      <td></td>\n",
       "      <td>콘서트</td>\n",
       "      <td>https://ticketimage.interpark.com/TicketImage/...</td>\n",
       "    </tr>\n",
       "    <tr>\n",
       "      <th>45</th>\n",
       "      <td>2025-08-04 19:00:00</td>\n",
       "      <td>837</td>\n",
       "      <td>일반예매</td>\n",
       "      <td>윤석철트리오 ＆ H ZETTRIO in SEOUL</td>\n",
       "      <td></td>\n",
       "      <td>콘서트</td>\n",
       "      <td>https://ticketimage.interpark.com/TicketImage/...</td>\n",
       "    </tr>\n",
       "    <tr>\n",
       "      <th>7</th>\n",
       "      <td>2025-07-21 14:00:00</td>\n",
       "      <td>727</td>\n",
       "      <td>일반예매</td>\n",
       "      <td>2025 빈예서 콘서트 ［첫 번째 이야기 : 추억］ - 부산</td>\n",
       "      <td></td>\n",
       "      <td>콘서트</td>\n",
       "      <td>https://ticketimage.interpark.com/TicketImage/...</td>\n",
       "    </tr>\n",
       "    <tr>\n",
       "      <th>15</th>\n",
       "      <td>2025-07-22 10:00:00</td>\n",
       "      <td>202</td>\n",
       "      <td>일반예매</td>\n",
       "      <td>2025 카즈미 타테이시 트리오 내한공연(인천)</td>\n",
       "      <td></td>\n",
       "      <td>콘서트</td>\n",
       "      <td>https://ticketimage.interpark.com/TicketImage/...</td>\n",
       "    </tr>\n",
       "  </tbody>\n",
       "</table>\n",
       "</div>"
      ],
      "text/plain": [
       "                   오픈시간    조회수  예매타입  \\\n",
       "44  2025-07-30 20:00:00  41409  일반예매   \n",
       "34  2025-07-23 20:00:00   9817  일반예매   \n",
       "41  2025-07-25 18:00:00   8169  일반예매   \n",
       "20  2025-07-22 12:00:00   5214  일반예매   \n",
       "46                        4901  일반예매   \n",
       "29  2025-07-23 12:00:00   4621  일반예매   \n",
       "43  2025-07-28 20:00:00   3267  일반예매   \n",
       "13  2025-07-21 20:00:00   2452  일반예매   \n",
       "28  2025-07-22 20:00:00   1706  일반예매   \n",
       "30  2025-07-23 16:00:00   1468  일반예매   \n",
       "31  2025-07-23 17:00:00   1330  일반예매   \n",
       "32  2025-07-23 18:00:00   1234  일반예매   \n",
       "45  2025-08-04 19:00:00    837  일반예매   \n",
       "7   2025-07-21 14:00:00    727  일반예매   \n",
       "15  2025-07-22 10:00:00    202  일반예매   \n",
       "\n",
       "                                                   제목      예매코드   장르  \\\n",
       "44  TOMORROW X TOGETHER WORLD TOUR 〈ACT : TOMORROW...  25008966  콘서트   \n",
       "34                     2025 실리카겔 단독공연 Syn.THE.Size X             콘서트   \n",
       "41                              민트페스타 vol.78 SPIRITED            콘서트   \n",
       "20               Jacky Cheung 60+ Concert Tour Seoul   25010261  콘서트   \n",
       "46                          2025 데미소다 콘서트, DEMI-CON!             콘서트   \n",
       "29     더 로즈(The Rose) Once Upon A WRLD Tour in Seoul   25009724  콘서트   \n",
       "43  2025 TEEN TOP WE GONNA ROCK IT DROP IT TOP IT ...            콘서트   \n",
       "13             2025 RESCENE 1st FAN-CON ［Project 326］  25010172  콘서트   \n",
       "28                      2025 유채훈 크로스오버 콘서트 〈IL MONDO〉            콘서트   \n",
       "30                                 PEAKBOX 2025 : 사랑   25010465  콘서트   \n",
       "31                                  PEAKBOX 2025 : 청춘  25010343  콘서트   \n",
       "32                                  PEAKBOX 2025 : 행복            콘서트   \n",
       "45                        윤석철트리오 ＆ H ZETTRIO in SEOUL            콘서트   \n",
       "7                   2025 빈예서 콘서트 ［첫 번째 이야기 : 추억］ - 부산            콘서트   \n",
       "15                         2025 카즈미 타테이시 트리오 내한공연(인천)            콘서트   \n",
       "\n",
       "                                                Image  \n",
       "44  https://ticketimage.interpark.com/Play/image/l...  \n",
       "34  https://ticketimage.interpark.com/TicketImage/...  \n",
       "41  https://ticketimage.interpark.com/TicketImage/...  \n",
       "20  https://ticketimage.interpark.com/Play/image/l...  \n",
       "46  https://ticketimage.interpark.com/TicketImage/...  \n",
       "29  https://ticketimage.interpark.com/Play/image/l...  \n",
       "43  https://ticketimage.interpark.com/TicketImage/...  \n",
       "13  https://ticketimage.interpark.com/Play/image/l...  \n",
       "28  https://ticketimage.interpark.com/TicketImage/...  \n",
       "30  https://ticketimage.interpark.com/Play/image/l...  \n",
       "31  https://ticketimage.interpark.com/Play/image/l...  \n",
       "32  https://ticketimage.interpark.com/TicketImage/...  \n",
       "45  https://ticketimage.interpark.com/TicketImage/...  \n",
       "7   https://ticketimage.interpark.com/TicketImage/...  \n",
       "15  https://ticketimage.interpark.com/TicketImage/...  "
      ]
     },
     "execution_count": 3,
     "metadata": {},
     "output_type": "execute_result"
    }
   ],
   "source": [
    "df[df['장르']=='콘서트'].sort_values(by='조회수', ascending=False)"
   ]
  },
  {
   "cell_type": "code",
   "execution_count": 2,
   "metadata": {},
   "outputs": [
    {
     "name": "stdout",
     "output_type": "stream",
     "text": [
      "🤖 가수명 + 해시태그 생성 중...\n"
     ]
    },
    {
     "name": "stderr",
     "output_type": "stream",
     "text": [
      "100%|██████████| 31/31 [00:05<00:00,  5.69it/s]\n"
     ]
    },
    {
     "name": "stdout",
     "output_type": "stream",
     "text": [
      "🤖 트위터 문구 생성 중...\n"
     ]
    },
    {
     "name": "stderr",
     "output_type": "stream",
     "text": [
      "100%|██████████| 31/31 [00:00<00:00, 31091.21it/s]\n"
     ]
    },
    {
     "name": "stdout",
     "output_type": "stream",
     "text": [
      "🤖 번장 문구 생성 중...\n"
     ]
    },
    {
     "name": "stderr",
     "output_type": "stream",
     "text": [
      "100%|██████████| 31/31 [00:00<?, ?it/s]\n"
     ]
    },
    {
     "name": "stdout",
     "output_type": "stream",
     "text": [
      "✅ 31개 티켓 업로드 완료\n",
      "\n",
      "📋 HOT 티켓 요약:\n"
     ]
    }
   ],
   "source": [
    "\n",
    "\n",
    "import os\n",
    "import json\n",
    "import requests\n",
    "import pandas as pd\n",
    "from tqdm import tqdm\n",
    "from pathlib import Path\n",
    "from openai import OpenAI\n",
    "import gspread\n",
    "from oauth2client.service_account import ServiceAccountCredentials\n",
    "import random\n",
    "from datetime import datetime\n",
    "\n",
    "client = OpenAI(api_key=os.getenv(\"OPENAI_API_KEY\"))\n",
    "\n",
    "class InterparkTicketCrawler:\n",
    "    def __init__(self, creds='google.json', sheet_name='감사한 티켓팅 신청서'):\n",
    "        scope = ['https://spreadsheets.google.com/feeds', 'https://www.googleapis.com/auth/drive']\n",
    "        creds = ServiceAccountCredentials.from_json_keyfile_name(creds, scope)\n",
    "        self.sheet = gspread.authorize(creds).open(sheet_name).worksheet('Hot')\n",
    "\n",
    "        # 캐시 파일 경로\n",
    "        self.artist_cache_path = Path('artist_cache.json')\n",
    "        self.hashtag_cache_path = Path('hashtag_cache.json')\n",
    "        self.tweet_cache_path = Path('tweet_cache.json')\n",
    "\n",
    "        # 캐시 로딩\n",
    "        self.artist_cache = self.load_cache(self.artist_cache_path)\n",
    "        self.hashtag_cache = self.load_cache(self.hashtag_cache_path)\n",
    "        self.tweet_cache = self.load_cache(self.tweet_cache_path)\n",
    "        \n",
    "    def load_cache(self, path: Path) -> dict:\n",
    "        if path.exists():\n",
    "            try:\n",
    "                with open(path, 'r', encoding='utf-8') as f:\n",
    "                    return json.load(f)\n",
    "            except:\n",
    "                pass\n",
    "        return {}\n",
    "\n",
    "    def save_cache(self, cache: dict, path: Path):\n",
    "        with open(path, 'w', encoding='utf-8') as f:\n",
    "            json.dump(cache, f, ensure_ascii=False, indent=2)\n",
    "\n",
    "    def fetch_data(self):\n",
    "        url = \"https://tickets.interpark.com/contents/api/open-notice/notice-list\"\n",
    "        params = {\"goodsGenre\": \"ALL\", \"goodsRegion\": \"ALL\", \"offset\": 0, \"pageSize\": 400, \"sorting\": \"OPEN_ASC\"}\n",
    "        headers = {\n",
    "            \"user-agent\": \"Mozilla/5.0\",\n",
    "            \"referer\": \"https://tickets.interpark.com/contents/notice\"\n",
    "        }\n",
    "        r = requests.get(url, params=params, headers=headers)\n",
    "        r.raise_for_status()\n",
    "        return r.json()\n",
    "# 뮤지컬, 연극 500 , 클래식/오페라 400, 콘서트 600\n",
    "    def filter_hot(self, data):\n",
    "        hot = []\n",
    "        for d in data:\n",
    "            if d.get('goodsGenreStr') == '콘서트' and d.get('viewCount', 0) <= 600:\n",
    "                continue\n",
    "            if d.get('goodsGenreStr') == '뮤지컬' and d.get('viewCount', 0) <= 500:\n",
    "                continue\n",
    "            if d.get('goodsGenreStr') == '연극' and d.get('viewCount', 0) <= 500:\n",
    "                continue\n",
    "            if d.get('goodsGenreStr') == '클래식/오페라' and d.get('viewCount', 0) <= 400:\n",
    "                continue\n",
    "            \n",
    "            hot.append({\n",
    "                '오픈시간': d.get('openDateStr', ''),\n",
    "                '조회수': d.get('viewCount', 0),\n",
    "                '예매타입': d.get('openTypeStr', ''),\n",
    "                '제목': d.get('title', ''),\n",
    "                '예매코드': d.get('goodsCode', ''),\n",
    "                '장르': d.get('goodsGenreStr', ''),\n",
    "                'Image': d.get('posterImageUrl', '')\n",
    "            })\n",
    "        return hot\n",
    "\n",
    "    def extract_artist(self, title: str) -> str:\n",
    "        if title in self.artist_cache:\n",
    "            return self.artist_cache[title]\n",
    "\n",
    "        prompt = f\"\"\"\n",
    "아래는 콘서트 제목이야. 여기서 가수명이나 그룹명만 간단히 추출해줘. 뮤지컬일 경우 뮤지컬 제목만 추출해줘.**영문일 경우 한글도 같이 작성해야되고, 약어가 있으면 풀네임이랑 약어도 같이 작성해야해**\n",
    "예시: 악동뮤지션 (악뮤, AKMU)\n",
    "제목: {title}\n",
    "가수명 or 뮤지컬 제목:\"\"\"\n",
    "\n",
    "        try:\n",
    "            res = client.chat.completions.create(\n",
    "                model=\"gpt-4o\",\n",
    "                messages=[{\"role\": \"user\", \"content\": prompt}],\n",
    "                temperature=0.2,\n",
    "            )\n",
    "            artist = res.choices[0].message.content.strip().strip('\"')\n",
    "            self.artist_cache[title] = artist\n",
    "            return artist\n",
    "        except Exception as e:\n",
    "            print(f\"❌ OpenAI 오류 (가수명): {e}\")\n",
    "            return \"불명\"\n",
    "\n",
    "    def generate_hashtags(self, title: str, artist: str, genre: str) -> str:\n",
    "        key = f\"{title}\"\n",
    "        if key in self.hashtag_cache:\n",
    "            return self.hashtag_cache[key]\n",
    "\n",
    "        prompt = f\"\"\"\n",
    "콘서트 제목: {title}\n",
    "가수 또는 뮤지컬 제목: {artist}\n",
    "장르: {genre}\n",
    "\n",
    "위 콘서트를 대리티켓팅 목적으로 트위터에 해시태그 10개를 한국어로 작성해줘.\n",
    "형식: #블랙핑크콘서트 #블랙핑크 #BLACKPINK #블핑댈티 #대리티켓팅\n",
    "조건: '#' 포함하고 띄어쓰기 없이, 한 줄로 콤마 없이 출력해줘. 키워드당 9자 이하여야해\n",
    "\"\"\"\n",
    "\n",
    "        try:\n",
    "            res = client.chat.completions.create(\n",
    "                model=\"gpt-4o\",\n",
    "                messages=[{\"role\": \"user\", \"content\": prompt}],\n",
    "                temperature=0.5,\n",
    "            )\n",
    "            hashtags = res.choices[0].message.content.strip()\n",
    "            self.hashtag_cache[key] = hashtags\n",
    "            return hashtags\n",
    "        except Exception as e:\n",
    "            print(f\"❌ OpenAI 오류 (해시태그): {e}\")\n",
    "            return \"#대리티켓팅\"\n",
    "\n",
    "    def add_ai_columns(self, df):\n",
    "        print(\"🤖 가수명 + 해시태그 생성 중...\")\n",
    "        artists = []\n",
    "        hashtags = []\n",
    "\n",
    "        for _, row in tqdm(df.iterrows(), total=len(df)):\n",
    "            title = row['제목']\n",
    "            genre = row['장르']\n",
    "\n",
    "            artist = self.extract_artist(title)\n",
    "            hashtag = self.generate_hashtags(title, artist, genre)\n",
    "\n",
    "            artists.append(artist)\n",
    "            hashtags.append(hashtag)\n",
    "\n",
    "        df['가수명'] = artists\n",
    "        df['해시태그'] = hashtags\n",
    "\n",
    "        self.save_cache(self.artist_cache, self.artist_cache_path)\n",
    "        self.save_cache(self.hashtag_cache, self.hashtag_cache_path)\n",
    "\n",
    "        return df\n",
    "    \n",
    "    def add_twitter_columns(self, df):\n",
    "        print(\"🤖 트위터 문구 생성 중...\")\n",
    "        with open('tweet_templates.json', 'r', encoding='utf-8') as f:\n",
    "            templates = json.load(f)\n",
    "        \n",
    "        tweet_contents = []\n",
    "        for _, row in tqdm(df.iterrows(), total=len(df)):\n",
    "            \n",
    "\n",
    "            template = {\"content\": \"{title}\\n\\n🚨 {singer} 대리티켓팅(댈티)\\n\\n수고비 제일 저렴\\n경력 매우 많음\\n\\n상담 링크: https://open.kakao.com/o/sAJ8m2Ah\\n\\n{hash_tag}\"}\n",
    "            \n",
    "            # if row['조회수'] > 10000:\n",
    "            #     template = random.choice(templates)\n",
    "            # else:\n",
    "            #     template = {\"content\": \"{title}\\n\\n🚨 {singer} 대리티켓팅(댈티)\\n\\n수고비 제일 저렴\\n경력 매우 많음\\n\\n상담 링크: https://open.kakao.com/o/sAJ8m2Ah\\n\\n{hash_tag} #평생한번 #놓치면후회 #앞열보장\"}\n",
    "            \n",
    "            # 시간 치환\n",
    "            \n",
    "            title = row['제목']\n",
    "            singer = row['가수명']\n",
    "            \n",
    "            # 오픈시간이 문자열인 경우 datetime으로 변환\n",
    "            open_time_raw = row['오픈시간']\n",
    "            if isinstance(open_time_raw, str):\n",
    "                # 문자열을 datetime으로 변환\n",
    "                open_time_dt = datetime.strptime(open_time_raw, '%Y-%m-%d %H:%M:%S')\n",
    "                open_time = open_time_dt.strftime('%m월 %d일 %p %I시').replace('AM', '오전').replace('PM', '오후').replace('0', '')\n",
    "            else:\n",
    "                # 이미 datetime 객체인 경우\n",
    "                open_time = open_time_raw.strftime('%m월 %d일 %p %I시').replace('AM', '오전').replace('PM', '오후').replace('0', '')\n",
    "            \n",
    "            hash_tag = row['해시태그']\n",
    "            content = template['content'].replace(\"{open_time}\", open_time).replace(\"{title}\", title).replace(\"{singer}\", singer).replace(\"{hash_tag}\", hash_tag)\n",
    "            tweet_contents.append(content)\n",
    "\n",
    "        df['트위터'] = tweet_contents\n",
    "        self.save_cache(self.tweet_cache, self.tweet_cache_path)\n",
    "        return df\n",
    "        \n",
    "    def bunjang_columns(self, df):\n",
    "        print(\"🤖 번장 문구 생성 중...\")\n",
    "        \n",
    "        bunjang_contents = []\n",
    "        for _, row in tqdm(df.iterrows(), total=len(df)):\n",
    "            \n",
    "\n",
    "            template = {\"content\": \"{title}\\n\\n🚨 {singer} 대리티켓팅(댈티)\\n\\n수고비 제일 저렴\\n경력 매우 많음\\n\\n가격: 번개톡 상담\\n\\n{hash_tag}\"}\n",
    "            \n",
    "            \n",
    "            title = row['제목']\n",
    "            singer = row['가수명']\n",
    "            \n",
    "            # 오픈시간이 문자열인 경우 datetime으로 변환\n",
    "            open_time_raw = row['오픈시간']\n",
    "            if isinstance(open_time_raw, str):\n",
    "                # 문자열을 datetime으로 변환\n",
    "                open_time_dt = datetime.strptime(open_time_raw, '%Y-%m-%d %H:%M:%S')\n",
    "                open_time = open_time_dt.strftime('%m월 %d일 %p %I시').replace('AM', '오전').replace('PM', '오후').replace('0', '')\n",
    "            else:\n",
    "                # 이미 datetime 객체인 경우\n",
    "                open_time = open_time_raw.strftime('%m월 %d일 %p %I시').replace('AM', '오전').replace('PM', '오후').replace('0', '')\n",
    "            \n",
    "            hash_tag = row['해시태그']\n",
    "            content = template['content'].replace(\"{open_time}\", open_time).replace(\"{title}\", title).replace(\"{singer}\", singer).replace(\"{hash_tag}\", hash_tag)\n",
    "            bunjang_contents.append(content)\n",
    "\n",
    "        df['번장'] = bunjang_contents\n",
    "        \n",
    "        return df\n",
    "\n",
    "    def update_sheet(self, df):\n",
    "        self.sheet.clear()\n",
    "        if df.empty:\n",
    "            print(\"📭 HOT 티켓 없음\")\n",
    "            return\n",
    "        self.sheet.append_row(list(df.columns))\n",
    "        for row in df.values.tolist():\n",
    "            self.sheet.append_row(row)\n",
    "        print(f\"✅ {len(df)}개 티켓 업로드 완료\")\n",
    "\n",
    "    def run(self):\n",
    "        raw = self.fetch_data()\n",
    "        hot = self.filter_hot(raw)\n",
    "        df = pd.DataFrame(hot)\n",
    "        df = df[df['오픈시간'].notna() & (df['오픈시간'] != '')]\n",
    "        if df.empty:\n",
    "            return df\n",
    "        df = df.sort_values(by='오픈시간')\n",
    "        df = self.add_ai_columns(df)\n",
    "        df = self.add_twitter_columns(df)\n",
    "        df = self.bunjang_columns(df)\n",
    "        self.update_sheet(df)\n",
    "        return df\n",
    "\n",
    "if __name__ == \"__main__\":\n",
    "    df = InterparkTicketCrawler().run()\n",
    "    if not df.empty:\n",
    "        print(\"\\n📋 HOT 티켓 요약:\")\n",
    "        \n",
    "        # print(df[['오픈시간', '제목', '가수명', '해시태그', '번장', '트위터']].to_string(index=False))"
   ]
  },
  {
   "cell_type": "code",
   "execution_count": 20,
   "metadata": {},
   "outputs": [
    {
     "name": "stderr",
     "output_type": "stream",
     "text": [
      "  0%|          | 0/29 [00:00<?, ?it/s]"
     ]
    },
    {
     "name": "stdout",
     "output_type": "stream",
     "text": [
      "📁 이미지 이미 존재: image/25010172_p.gif\n",
      "✅ 이미지 업로드 성공: 1487367030\n",
      "✅ 상품 등록 성공! 🆔 346260793\n",
      "🔗 번장 링크: https://m.bunjang.co.kr/products/346260793\n",
      "🔄 RESCENE 대리티켓팅(댈티) 번장 게시 완료\n",
      "⏰ 다음 게시까지 1초 남음...."
     ]
    },
    {
     "name": "stderr",
     "output_type": "stream",
     "text": [
      "  3%|▎         | 1/29 [01:15<35:23, 75.85s/it]"
     ]
    },
    {
     "name": "stdout",
     "output_type": "stream",
     "text": [
      "\n",
      "⏳ 75초 대기 완료\n",
      "✅ 이미지 다운로드 완료: image/25010481_p.gif\n",
      "✅ 이미지 업로드 성공: 1487375405\n",
      "✅ 상품 등록 성공! 🆔 346261048\n",
      "🔗 번장 링크: https://m.bunjang.co.kr/products/346261048\n",
      "🔄 태양의서커스 (Cirque du Soleil) 대리티켓팅(댈티) 번장 게시 완료\n",
      "⏰ 다음 게시까지 1초 남음...."
     ]
    },
    {
     "name": "stderr",
     "output_type": "stream",
     "text": [
      "  7%|▋         | 2/29 [02:45<37:55, 84.26s/it]"
     ]
    },
    {
     "name": "stdout",
     "output_type": "stream",
     "text": [
      "\n",
      "⏳ 89초 대기 완료\n",
      "✅ 이미지 다운로드 완료: image/25010261_p.gif\n",
      "✅ 이미지 업로드 성공: 1487376631\n",
      "✅ 상품 등록 성공! 🆔 346261354\n",
      "🔗 번장 링크: https://m.bunjang.co.kr/products/346261354\n",
      "🔄 장학우 (Jacky Cheung) 대리티켓팅(댈티) 번장 게시 완료\n",
      "⏰ 다음 게시까지 1초 남음...."
     ]
    },
    {
     "name": "stderr",
     "output_type": "stream",
     "text": [
      " 10%|█         | 3/29 [04:04<35:16, 81.41s/it]"
     ]
    },
    {
     "name": "stdout",
     "output_type": "stream",
     "text": [
      "\n",
      "⏳ 77초 대기 완료\n",
      "✅ 이미지 다운로드 완료: image/25010453_p.gif\n",
      "✅ 이미지 업로드 성공: 1487377672\n",
      "❌ 상품 등록 실패 (400): {\"errorCode\":\"ERR_BAD_REQUEST\",\"reason\":\"상품명에는 한글/영문/숫자/일부 특수문자만 입력할 수 있어요.\"}\n",
      "🔄 뮤지컬 〈맘마미아!〉 대리티켓팅(댈티) 번장 게시 완료\n",
      "⏰ 다음 게시까지 1초 남음...."
     ]
    },
    {
     "name": "stderr",
     "output_type": "stream",
     "text": [
      " 14%|█▍        | 4/29 [05:22<33:31, 80.44s/it]"
     ]
    },
    {
     "name": "stdout",
     "output_type": "stream",
     "text": [
      "\n",
      "⏳ 78초 대기 완료\n",
      "✅ 이미지 다운로드 완료: image/25009974_p.gif\n",
      "✅ 이미지 업로드 성공: 1487378829\n",
      "✅ 상품 등록 성공! 🆔 346261907\n",
      "🔗 번장 링크: https://m.bunjang.co.kr/products/346261907\n",
      "🔄 해피 오! 해피 대리티켓팅(댈티) 번장 게시 완료\n",
      "⏰ 다음 게시까지 1초 남음...."
     ]
    },
    {
     "name": "stderr",
     "output_type": "stream",
     "text": [
      " 17%|█▋        | 5/29 [06:36<31:14, 78.12s/it]"
     ]
    },
    {
     "name": "stdout",
     "output_type": "stream",
     "text": [
      "\n",
      "⏳ 73초 대기 완료\n",
      "✅ 이미지 다운로드 완료: image/25010501_p.gif\n",
      "✅ 이미지 업로드 성공: 1487379800\n",
      "✅ 상품 등록 성공! 🆔 346262168\n",
      "🔗 번장 링크: https://m.bunjang.co.kr/products/346262168\n",
      "🔄 브로드웨이 42번가 대리티켓팅(댈티) 번장 게시 완료\n",
      "⏰ 다음 게시까지 1초 남음...."
     ]
    },
    {
     "name": "stderr",
     "output_type": "stream",
     "text": [
      " 21%|██        | 6/29 [08:02<30:51, 80.49s/it]"
     ]
    },
    {
     "name": "stdout",
     "output_type": "stream",
     "text": [
      "\n",
      "⏳ 84초 대기 완료\n",
      "✅ 이미지 다운로드 완료: image/2025071422105336.jpg\n",
      "✅ 이미지 업로드 성공: 1487381014\n",
      "✅ 상품 등록 성공! 🆔 346262457\n",
      "🔗 번장 링크: https://m.bunjang.co.kr/products/346262457\n",
      "🔄 보이즈 인 더 밴드 대리티켓팅(댈티) 번장 게시 완료\n",
      "⏰ 다음 게시까지 1초 남음...."
     ]
    },
    {
     "name": "stderr",
     "output_type": "stream",
     "text": [
      " 24%|██▍       | 7/29 [09:11<28:13, 77.00s/it]"
     ]
    },
    {
     "name": "stdout",
     "output_type": "stream",
     "text": [
      "\n",
      "⏳ 69초 대기 완료\n",
      "✅ 이미지 다운로드 완료: image/25010188_p.gif\n",
      "✅ 이미지 업로드 성공: 1487381974\n",
      "✅ 상품 등록 성공! 🆔 346262711\n",
      "🔗 번장 링크: https://m.bunjang.co.kr/products/346262711\n",
      "🔄 앙상블로 듣는 지브리 대리티켓팅(댈티) 번장 게시 완료\n",
      "⏰ 다음 게시까지 1초 남음...."
     ]
    },
    {
     "name": "stderr",
     "output_type": "stream",
     "text": [
      " 28%|██▊       | 8/29 [10:24<26:29, 75.71s/it]"
     ]
    },
    {
     "name": "stdout",
     "output_type": "stream",
     "text": [
      "\n",
      "⏳ 72초 대기 완료\n",
      "✅ 이미지 다운로드 완료: image/25010301_p.gif\n",
      "✅ 이미지 업로드 성공: 1487382933\n",
      "✅ 상품 등록 성공! 🆔 346262953\n",
      "🔗 번장 링크: https://m.bunjang.co.kr/products/346262953\n",
      "🔄 유채훈 대리티켓팅(댈티) 번장 게시 완료\n",
      "⏰ 다음 게시까지 1초 남음...."
     ]
    },
    {
     "name": "stderr",
     "output_type": "stream",
     "text": [
      " 31%|███       | 9/29 [11:39<25:09, 75.47s/it]"
     ]
    },
    {
     "name": "stdout",
     "output_type": "stream",
     "text": [
      "\n",
      "⏳ 74초 대기 완료\n",
      "📁 이미지 이미 존재: image/25009724_p.gif\n",
      "✅ 이미지 업로드 성공: 1483502461\n",
      "✅ 상품 등록 성공! 🆔 346263211\n",
      "🔗 번장 링크: https://m.bunjang.co.kr/products/346263211\n",
      "🔄 더 로즈 (The Rose) 대리티켓팅(댈티) 번장 게시 완료\n",
      "⏰ 다음 게시까지 1초 남음...."
     ]
    },
    {
     "name": "stderr",
     "output_type": "stream",
     "text": [
      " 34%|███▍      | 10/29 [13:06<25:01, 79.01s/it]"
     ]
    },
    {
     "name": "stdout",
     "output_type": "stream",
     "text": [
      "\n",
      "⏳ 86초 대기 완료\n",
      "✅ 이미지 다운로드 완료: image/2025071717462338.jpg\n",
      "✅ 이미지 업로드 성공: 1487384891\n",
      "✅ 상품 등록 성공! 🆔 346263453\n",
      "🔗 번장 링크: https://m.bunjang.co.kr/products/346263453\n",
      "🔄 미스터트롯3 대리티켓팅(댈티) 번장 게시 완료\n",
      "⏰ 다음 게시까지 1초 남음...."
     ]
    },
    {
     "name": "stderr",
     "output_type": "stream",
     "text": [
      " 38%|███▊      | 11/29 [14:17<22:57, 76.52s/it]"
     ]
    },
    {
     "name": "stdout",
     "output_type": "stream",
     "text": [
      "\n",
      "⏳ 70초 대기 완료\n",
      "✅ 이미지 다운로드 완료: image/25010465_p.gif\n",
      "✅ 이미지 업로드 성공: 1487385845\n",
      "✅ 상품 등록 성공! 🆔 346263712\n",
      "🔗 번장 링크: https://m.bunjang.co.kr/products/346263712\n",
      "🔄 PEAKBOX 대리티켓팅(댈티) 번장 게시 완료\n",
      "⏰ 다음 게시까지 1초 남음...."
     ]
    },
    {
     "name": "stderr",
     "output_type": "stream",
     "text": [
      " 41%|████▏     | 12/29 [15:18<20:19, 71.75s/it]"
     ]
    },
    {
     "name": "stdout",
     "output_type": "stream",
     "text": [
      "\n",
      "⏳ 60초 대기 완료\n",
      "✅ 이미지 다운로드 완료: image/25010343_p.gif\n",
      "✅ 이미지 업로드 성공: 1487386619\n",
      "❌ 상품 등록 실패 (400): {\"errorCode\":\"ERR_BAD_REQUEST\",\"reason\":\"상품명을 40자 이하 입력해주세요.\"}\n",
      "🔄 PEAKBOX 2025 : 청춘은 특정 가수나 그룹명이 포함된 제목이 아니므로, 가수명이나 그룹명을 추출할 수 없습니다. 대리티켓팅(댈티) 번장 게시 완료\n",
      "⏰ 다음 게시까지 1초 남음...."
     ]
    },
    {
     "name": "stderr",
     "output_type": "stream",
     "text": [
      " 45%|████▍     | 13/29 [16:21<18:24, 69.06s/it]"
     ]
    },
    {
     "name": "stdout",
     "output_type": "stream",
     "text": [
      "\n",
      "⏳ 62초 대기 완료\n",
      "✅ 이미지 다운로드 완료: image/25010437_p.gif\n",
      "✅ 이미지 업로드 성공: 1487387469\n",
      "✅ 상품 등록 성공! 🆔 346264112\n",
      "🔗 번장 링크: https://m.bunjang.co.kr/products/346264112\n",
      "🔄 PEAKBOX 2025 대리티켓팅(댈티) 번장 게시 완료\n",
      "⏰ 다음 게시까지 1초 남음...."
     ]
    },
    {
     "name": "stderr",
     "output_type": "stream",
     "text": [
      " 48%|████▊     | 14/29 [17:27<17:01, 68.09s/it]"
     ]
    },
    {
     "name": "stdout",
     "output_type": "stream",
     "text": [
      "\n",
      "⏳ 65초 대기 완료\n",
      "📁 이미지 이미 존재: image/2025063012302095.jpg\n",
      "✅ 이미지 업로드 성공: 1480913944\n",
      "✅ 상품 등록 성공! 🆔 346264318\n",
      "🔗 번장 링크: https://m.bunjang.co.kr/products/346264318\n",
      "🔄 동방프로젝트 (Touhou Project) 대리티켓팅(댈티) 번장 게시 완료\n",
      "⏰ 다음 게시까지 1초 남음...."
     ]
    },
    {
     "name": "stderr",
     "output_type": "stream",
     "text": [
      " 52%|█████▏    | 15/29 [18:56<17:21, 74.39s/it]"
     ]
    },
    {
     "name": "stdout",
     "output_type": "stream",
     "text": [
      "\n",
      "⏳ 88초 대기 완료\n",
      "✅ 이미지 다운로드 완료: image/20250716035958.jpg\n",
      "✅ 이미지 업로드 성공: 1487389303\n",
      "✅ 상품 등록 성공! 🆔 346264642\n",
      "🔗 번장 링크: https://m.bunjang.co.kr/products/346264642\n",
      "🔄 실리카겔 대리티켓팅(댈티) 번장 게시 완료\n",
      "⏰ 다음 게시까지 1초 남음...."
     ]
    },
    {
     "name": "stderr",
     "output_type": "stream",
     "text": [
      " 55%|█████▌    | 16/29 [19:59<15:25, 71.20s/it]"
     ]
    },
    {
     "name": "stdout",
     "output_type": "stream",
     "text": [
      "\n",
      "⏳ 63초 대기 완료\n",
      "✅ 이미지 다운로드 완료: image/25006050_p.gif\n",
      "✅ 이미지 업로드 성공: 1478562124\n",
      "✅ 상품 등록 성공! 🆔 346264873\n",
      "🔗 번장 링크: https://m.bunjang.co.kr/products/346264873\n",
      "🔄 프리다 대리티켓팅(댈티) 번장 게시 완료\n",
      "⏰ 다음 게시까지 1초 남음...."
     ]
    },
    {
     "name": "stderr",
     "output_type": "stream",
     "text": [
      " 59%|█████▊    | 17/29 [21:04<13:51, 69.25s/it]"
     ]
    },
    {
     "name": "stdout",
     "output_type": "stream",
     "text": [
      "\n",
      "⏳ 64초 대기 완료\n",
      "✅ 이미지 다운로드 완료: image/25005672_p.gif\n",
      "✅ 이미지 업로드 성공: 1443017584\n",
      "✅ 상품 등록 성공! 🆔 346265095\n",
      "🔗 번장 링크: https://m.bunjang.co.kr/products/346265095\n",
      "🔄 알라딘 (ALADDIN) 대리티켓팅(댈티) 번장 게시 완료\n",
      "⏰ 다음 게시까지 1초 남음...."
     ]
    },
    {
     "name": "stderr",
     "output_type": "stream",
     "text": [
      " 62%|██████▏   | 18/29 [22:18<12:56, 70.63s/it]"
     ]
    },
    {
     "name": "stdout",
     "output_type": "stream",
     "text": [
      "\n",
      "⏳ 73초 대기 완료\n",
      "📁 이미지 이미 존재: image/2025071116175454.jpg\n",
      "✅ 이미지 업로드 성공: 1483504446\n",
      "✅ 상품 등록 성공! 🆔 346265335\n",
      "🔗 번장 링크: https://m.bunjang.co.kr/products/346265335\n",
      "🔄 에쿠우스 (EQUUS) 대리티켓팅(댈티) 번장 게시 완료\n",
      "⏰ 다음 게시까지 1초 남음...."
     ]
    },
    {
     "name": "stderr",
     "output_type": "stream",
     "text": [
      " 66%|██████▌   | 19/29 [23:21<11:22, 68.25s/it]"
     ]
    },
    {
     "name": "stdout",
     "output_type": "stream",
     "text": [
      "\n",
      "⏳ 62초 대기 완료\n",
      "✅ 이미지 다운로드 완료: image/20250718084807.jpg\n",
      "✅ 이미지 업로드 성공: 1487392595\n",
      "✅ 상품 등록 성공! 🆔 346265529\n",
      "🔗 번장 링크: https://m.bunjang.co.kr/products/346265529\n",
      "🔄 김성현 대리티켓팅(댈티) 번장 게시 완료\n",
      "⏰ 다음 게시까지 1초 남음...."
     ]
    },
    {
     "name": "stderr",
     "output_type": "stream",
     "text": [
      " 69%|██████▉   | 20/29 [24:31<10:18, 68.74s/it]"
     ]
    },
    {
     "name": "stdout",
     "output_type": "stream",
     "text": [
      "\n",
      "⏳ 69초 대기 완료\n",
      "✅ 이미지 다운로드 완료: image/25009991_p.gif\n",
      "✅ 이미지 업로드 성공: 1487393529\n",
      "✅ 상품 등록 성공! 🆔 346265793\n",
      "🔗 번장 링크: https://m.bunjang.co.kr/products/346265793\n",
      "🔄 프리마 파시 대리티켓팅(댈티) 번장 게시 완료\n",
      "⏰ 다음 게시까지 1초 남음...."
     ]
    },
    {
     "name": "stderr",
     "output_type": "stream",
     "text": [
      " 72%|███████▏  | 21/29 [25:48<09:31, 71.46s/it]"
     ]
    },
    {
     "name": "stdout",
     "output_type": "stream",
     "text": [
      "\n",
      "⏳ 77초 대기 완료\n",
      "✅ 이미지 다운로드 완료: image/20250721010516.jpg\n",
      "✅ 이미지 업로드 성공: 1487394645\n",
      "✅ 상품 등록 성공! 🆔 346266069\n",
      "🔗 번장 링크: https://m.bunjang.co.kr/products/346266069\n",
      "🔄 스트릿 우먼 파이터 대리티켓팅(댈티) 번장 게시 완료\n",
      "⏰ 다음 게시까지 1초 남음...."
     ]
    },
    {
     "name": "stderr",
     "output_type": "stream",
     "text": [
      " 76%|███████▌  | 22/29 [26:57<08:14, 70.71s/it]"
     ]
    },
    {
     "name": "stdout",
     "output_type": "stream",
     "text": [
      "\n",
      "⏳ 68초 대기 완료\n",
      "📁 이미지 이미 존재: image/2025063015590510.jpg\n",
      "✅ 이미지 업로드 성공: 1480914949\n",
      "✅ 상품 등록 성공! 🆔 346266338\n",
      "🔗 번장 링크: https://m.bunjang.co.kr/products/346266338\n",
      "🔄 민트페스타 대리티켓팅(댈티) 번장 게시 완료\n",
      "⏰ 다음 게시까지 1초 남음...."
     ]
    },
    {
     "name": "stderr",
     "output_type": "stream",
     "text": [
      " 79%|███████▉  | 23/29 [28:26<07:37, 76.20s/it]"
     ]
    },
    {
     "name": "stdout",
     "output_type": "stream",
     "text": [
      "\n",
      "⏳ 88초 대기 완료\n",
      "✅ 이미지 다운로드 완료: image/2025071715161931.jpg\n",
      "✅ 이미지 업로드 성공: 1487396818\n",
      "✅ 상품 등록 성공! 🆔 346266639\n",
      "🔗 번장 링크: https://m.bunjang.co.kr/products/346266639\n",
      "🔄 히사이시 조 대리티켓팅(댈티) 번장 게시 완료\n",
      "⏰ 다음 게시까지 1초 남음...."
     ]
    },
    {
     "name": "stderr",
     "output_type": "stream",
     "text": [
      " 83%|████████▎ | 24/29 [29:33<06:06, 73.30s/it]"
     ]
    },
    {
     "name": "stdout",
     "output_type": "stream",
     "text": [
      "\n",
      "⏳ 65초 대기 완료\n",
      "✅ 이미지 다운로드 완료: image/2025071701122818.jpg\n",
      "✅ 이미지 업로드 성공: 1487397947\n",
      "✅ 상품 등록 성공! 🆔 346266903\n",
      "🔗 번장 링크: https://m.bunjang.co.kr/products/346266903\n",
      "🔄 틴탑 (TEEN TOP) 대리티켓팅(댈티) 번장 게시 완료\n",
      "⏰ 다음 게시까지 1초 남음...."
     ]
    },
    {
     "name": "stderr",
     "output_type": "stream",
     "text": [
      " 86%|████████▌ | 25/29 [30:44<04:50, 72.66s/it]"
     ]
    },
    {
     "name": "stdout",
     "output_type": "stream",
     "text": [
      "\n",
      "⏳ 70초 대기 완료\n",
      "✅ 이미지 다운로드 완료: image/25005777_p.gif\n",
      "✅ 이미지 업로드 성공: 1431684059\n",
      "✅ 상품 등록 성공! 🆔 346267137\n",
      "🔗 번장 링크: https://m.bunjang.co.kr/products/346267137\n",
      "🔄 위키드 (WICKED) 대리티켓팅(댈티) 번장 게시 완료\n",
      "⏰ 다음 게시까지 1초 남음...."
     ]
    },
    {
     "name": "stderr",
     "output_type": "stream",
     "text": [
      " 90%|████████▉ | 26/29 [31:57<03:38, 72.70s/it]"
     ]
    },
    {
     "name": "stdout",
     "output_type": "stream",
     "text": [
      "\n",
      "⏳ 72초 대기 완료\n",
      "📁 이미지 이미 존재: image/25008966_p.gif\n",
      "✅ 이미지 업로드 성공: 1480915735\n",
      "❌ 상품 등록 실패 (400): {\"errorCode\":\"ERR_BAD_REQUEST\",\"reason\":\"상품명을 40자 이하 입력해주세요.\"}\n",
      "🔄 TOMORROW X TOGETHER (투모로우바이투게더, TXT) 대리티켓팅(댈티) 번장 게시 완료\n",
      "⏰ 다음 게시까지 1초 남음...."
     ]
    },
    {
     "name": "stderr",
     "output_type": "stream",
     "text": [
      " 93%|█████████▎| 27/29 [33:16<02:29, 74.55s/it]"
     ]
    },
    {
     "name": "stdout",
     "output_type": "stream",
     "text": [
      "\n",
      "⏳ 78초 대기 완료\n",
      "✅ 이미지 다운로드 완료: image/20250716111436.jpg\n",
      "✅ 이미지 업로드 성공: 1487400740\n",
      "✅ 상품 등록 성공! 🆔 346267621\n",
      "🔗 번장 링크: https://m.bunjang.co.kr/products/346267621\n",
      "🔄 윤석철트리오, H ZETTRIO (에이치 제트 트리오) 대리티켓팅(댈티) 번장 게시 완료\n",
      "⏰ 다음 게시까지 1초 남음...."
     ]
    },
    {
     "name": "stderr",
     "output_type": "stream",
     "text": [
      " 97%|█████████▋| 28/29 [34:23<01:12, 72.52s/it]"
     ]
    },
    {
     "name": "stdout",
     "output_type": "stream",
     "text": [
      "\n",
      "⏳ 67초 대기 완료\n",
      "✅ 이미지 다운로드 완료: image/20250721111530.jpg\n",
      "✅ 이미지 업로드 성공: 1487401562\n",
      "✅ 상품 등록 성공! 🆔 346267858\n",
      "🔗 번장 링크: https://m.bunjang.co.kr/products/346267858\n",
      "🔄 세븐틴 (SEVENTEEN) 대리티켓팅(댈티) 번장 게시 완료\n",
      "⏰ 다음 게시까지 1초 남음...."
     ]
    },
    {
     "name": "stderr",
     "output_type": "stream",
     "text": [
      "100%|██████████| 29/29 [35:49<00:00, 74.14s/it]"
     ]
    },
    {
     "name": "stdout",
     "output_type": "stream",
     "text": [
      "\n",
      "⏳ 85초 대기 완료\n"
     ]
    },
    {
     "name": "stderr",
     "output_type": "stream",
     "text": [
      "\n"
     ]
    }
   ],
   "source": [
    "import os\n",
    "import requests\n",
    "import json\n",
    "from pathlib import Path\n",
    "from time import sleep\n",
    "import random\n",
    "from tqdm import tqdm\n",
    "\n",
    "import os\n",
    "import requests\n",
    "import json\n",
    "from pathlib import Path\n",
    "from time import sleep\n",
    "import random\n",
    "from tqdm import tqdm\n",
    "\n",
    "class PostBunjang:\n",
    "    def __init__(self, auth_token=None):\n",
    "        self.auth_token = \"53a119a23abe4baa83d75e604dbc2a2d\"\n",
    "        self.location = {\n",
    "            \"address\": \"서울특별시 서초구 서초4동\",\n",
    "            \"lat\": 37.5025863,\n",
    "            \"lon\": 127.022219,\n",
    "            \"dongId\": 648\n",
    "        }\n",
    "        os.makedirs(\"image\", exist_ok=True)\n",
    "\n",
    "    def _download_image(self, url):\n",
    "        path = f\"image/{url.split('/')[-1]}\"\n",
    "        if os.path.exists(path):\n",
    "            print(f\"📁 이미지 이미 존재: {path}\")\n",
    "            return path\n",
    "        r = requests.get(url, stream=True)\n",
    "        if r.status_code == 200:\n",
    "            with open(path, \"wb\") as f:\n",
    "                for chunk in r.iter_content(1024):\n",
    "                    f.write(chunk)\n",
    "            print(f\"✅ 이미지 다운로드 완료: {path}\")\n",
    "            return path\n",
    "        print(f\"❌ 이미지 다운로드 실패: {url}\")\n",
    "        return None\n",
    "\n",
    "    def register_bunjang_product(self, image_path, name, description, keywords, price):\n",
    "        # 1단계: 이미지 업로드\n",
    "        upload_url = 'https://media-center.bunjang.co.kr/upload/79373298/product'\n",
    "        upload_headers = {\n",
    "            'referer': 'https://m.bunjang.co.kr/',\n",
    "            'user-agent': 'Mozilla/5.0',\n",
    "            'origin': 'https://m.bunjang.co.kr',\n",
    "            'accept': 'application/json, text/plain, */*'\n",
    "        }\n",
    "\n",
    "        if not Path(image_path).exists():\n",
    "            print(f\"❌ 이미지 파일 없음: {image_path}\")\n",
    "            return None\n",
    "\n",
    "        with open(image_path, 'rb') as img_file:\n",
    "            # ✅ 파일명은 항상 ASCII (latin-1 인코딩 문제 방지)\n",
    "            files = {'file': ('upload.jpg', img_file, 'image/jpeg')}\n",
    "            upload_res = requests.post(upload_url, headers=upload_headers, files=files)\n",
    "\n",
    "        if upload_res.status_code != 200:\n",
    "            print(\"❌ 이미지 업로드 실패:\", upload_res.text)\n",
    "            return None\n",
    "\n",
    "        image_id = upload_res.json().get('image_id')\n",
    "        print(\"✅ 이미지 업로드 성공:\", image_id)\n",
    "\n",
    "        # 2단계: 상품 등록\n",
    "        product_url = 'https://api.bunjang.co.kr/api/pms/v2/products'\n",
    "        product_headers = {\n",
    "            'content-type': 'application/json',\n",
    "            'x-bun-auth-token': self.auth_token,\n",
    "            'user-agent': 'Mozilla/5.0',\n",
    "            'origin': 'https://m.bunjang.co.kr',\n",
    "            'referer': 'https://m.bunjang.co.kr/',\n",
    "            'accept': 'application/json, text/plain, */*'\n",
    "        }\n",
    "\n",
    "        # 해시태그 문자열이면 리스트로 변환\n",
    "        if isinstance(keywords, str):\n",
    "            keywords = [k.strip() for k in keywords.split('#') if k.strip()]\n",
    "\n",
    "        product_data = {\n",
    "            \"categoryId\": \"900210001\",\n",
    "            \"common\": {\n",
    "                \"description\": description,\n",
    "                \"keywords\": keywords,\n",
    "                \"name\": name,\n",
    "                \"condition\": \"UNDEFINED\",\n",
    "                \"priceOfferEnabled\": True\n",
    "            },\n",
    "            \"option\": [],\n",
    "            \"location\": {\"geo\": self.location},\n",
    "            \"transaction\": {\n",
    "                \"quantity\": 1,\n",
    "                \"price\": price,\n",
    "                \"trade\": {\n",
    "                    \"freeShipping\": True,\n",
    "                    \"isDefaultShippingFee\": False,\n",
    "                    \"inPerson\": True\n",
    "                }\n",
    "            },\n",
    "            \"media\": [{\"imageId\": image_id}],\n",
    "            \"naverShoppingData\": {\"isEnabled\": False}\n",
    "        }\n",
    "\n",
    "        res = requests.post(product_url, headers=product_headers, json=product_data)\n",
    "\n",
    "        if res.status_code == 200:\n",
    "            pid = res.json().get(\"data\", {}).get(\"pid\", \"N/A\")\n",
    "            print(\"✅ 상품 등록 성공! 🆔\", pid)\n",
    "            return pid\n",
    "        else:\n",
    "            print(f\"❌ 상품 등록 실패 ({res.status_code}): {res.text}\")\n",
    "            return None\n",
    "\n",
    "    def post(self, image_url, title, text, hash_tag, price):\n",
    "        path = self._download_image(image_url)\n",
    "        if not path:\n",
    "            return\n",
    "        pid = self.register_bunjang_product(\n",
    "            image_path=path,\n",
    "            name=title,\n",
    "            description=text,\n",
    "            keywords=hash_tag,\n",
    "            price=price\n",
    "        )\n",
    "        if pid:\n",
    "            print(f\"🔗 번장 링크: https://m.bunjang.co.kr/products/{pid}\")\n",
    "\n",
    "\n",
    "# ✅ 예시 실행 (df는 미리 정의된 pandas DataFrame이어야 함)\n",
    "for _, row in tqdm(df.iterrows(), total=len(df)):\n",
    "    title = row['가수명'] + \" 대리티켓팅(댈티)\"\n",
    "    text = row['번장']\n",
    "    image_url = row['Image']\n",
    "    tag_str = row['해시태그']\n",
    "    hash_tag = [tag.strip().lstrip('#')[:8] for tag in tag_str.split()][:5]\n",
    "\n",
    "    price = 9999\n",
    "\n",
    "    PostBunjang().post(image_url, title, text, hash_tag, price)\n",
    "    print(f\"🔄 {title} 번장 게시 완료\")\n",
    "\n",
    "    sleep_time = random.randint(60, 90)\n",
    "    for remaining in range(sleep_time, 0, -1):\n",
    "        print(f\"\\r⏰ 다음 게시까지 {remaining}초 남음...\", end=\"\", flush=True)\n",
    "        sleep(1)\n",
    "    print(f\"\\n⏳ {sleep_time}초 대기 완료\")"
   ]
  },
  {
   "cell_type": "code",
   "execution_count": 21,
   "metadata": {},
   "outputs": [
    {
     "name": "stderr",
     "output_type": "stream",
     "text": [
      "  0%|          | 0/29 [00:00<?, ?it/s]"
     ]
    },
    {
     "name": "stdout",
     "output_type": "stream",
     "text": [
      "이미지 image/25010172_p.gif 이미 다운로드됨, 스킵합니다.\n",
      "https://twitter.com/gamsahanticket/status/1947245951825113219\n",
      "🔄 2025 RESCENE 1st FAN-CON ［Project 326］ 트윗 게시 완료\n",
      "⏰ 다음 트윗까지 1초 남음...."
     ]
    },
    {
     "name": "stderr",
     "output_type": "stream",
     "text": [
      "  3%|▎         | 1/29 [01:31<42:44, 91.58s/it]"
     ]
    },
    {
     "name": "stdout",
     "output_type": "stream",
     "text": [
      "\n",
      "🔄 90초 대기 완료, 다음 트윗 게시\n",
      "이미지 image/25010481_p.gif 이미 다운로드됨, 스킵합니다.\n",
      "https://twitter.com/gamsahanticket/status/1947246336610635819\n",
      "🔄 ［NOL 스페셜 스테이지］ 태양의서커스 〈쿠자〉 - 부산 트윗 게시 완료\n",
      "⏰ 다음 트윗까지 1초 남음...."
     ]
    },
    {
     "name": "stderr",
     "output_type": "stream",
     "text": [
      "  7%|▋         | 2/29 [02:46<36:44, 81.66s/it]"
     ]
    },
    {
     "name": "stdout",
     "output_type": "stream",
     "text": [
      "\n",
      "🔄 73초 대기 완료, 다음 트윗 게시\n",
      "이미지 image/25010261_p.gif 이미 다운로드됨, 스킵합니다.\n",
      "https://twitter.com/gamsahanticket/status/1947246650264883443\n",
      "🔄 Jacky Cheung 60+ Concert Tour Seoul  트윗 게시 완료\n",
      "⏰ 다음 트윗까지 1초 남음...."
     ]
    },
    {
     "name": "stderr",
     "output_type": "stream",
     "text": [
      " 10%|█         | 3/29 [03:47<31:26, 72.54s/it]"
     ]
    },
    {
     "name": "stdout",
     "output_type": "stream",
     "text": [
      "\n",
      "🔄 60초 대기 완료, 다음 트윗 게시\n",
      "이미지 image/25010453_p.gif 이미 다운로드됨, 스킵합니다.\n",
      "https://twitter.com/gamsahanticket/status/1947246908248043985\n",
      "🔄 ［NOL 스페셜 스테이지］ 뮤지컬 〈맘마미아!〉 트윗 게시 완료\n",
      "⏰ 다음 트윗까지 1초 남음...."
     ]
    },
    {
     "name": "stderr",
     "output_type": "stream",
     "text": [
      " 14%|█▍        | 4/29 [05:01<30:23, 72.93s/it]"
     ]
    },
    {
     "name": "stdout",
     "output_type": "stream",
     "text": [
      "\n",
      "🔄 72초 대기 완료, 다음 트윗 게시\n",
      "이미지 image/25009974_p.gif 이미 다운로드됨, 스킵합니다.\n",
      "https://twitter.com/gamsahanticket/status/1947247217477407059\n",
      "🔄 뮤지컬 〈해피 오! 해피〉 트윗 게시 완료\n",
      "⏰ 다음 트윗까지 1초 남음...."
     ]
    },
    {
     "name": "stderr",
     "output_type": "stream",
     "text": [
      " 17%|█▋        | 5/29 [06:12<28:51, 72.13s/it]"
     ]
    },
    {
     "name": "stdout",
     "output_type": "stream",
     "text": [
      "\n",
      "🔄 69초 대기 완료, 다음 트윗 게시\n",
      "이미지 image/25010501_p.gif 이미 다운로드됨, 스킵합니다.\n",
      "https://twitter.com/gamsahanticket/status/1947247513691713932\n",
      "🔄 뮤지컬 〈브로드웨이 42번가〉 - 부산  트윗 게시 완료\n",
      "⏰ 다음 트윗까지 1초 남음...."
     ]
    },
    {
     "name": "stderr",
     "output_type": "stream",
     "text": [
      " 21%|██        | 6/29 [07:19<27:04, 70.61s/it]"
     ]
    },
    {
     "name": "stdout",
     "output_type": "stream",
     "text": [
      "\n",
      "🔄 66초 대기 완료, 다음 트윗 게시\n",
      "이미지 image/2025071422105336.jpg 이미 다운로드됨, 스킵합니다.\n",
      "https://twitter.com/gamsahanticket/status/1947247798556176650\n",
      "🔄 연극 〈보이즈 인 더 밴드〉 트윗 게시 완료\n",
      "⏰ 다음 트윗까지 1초 남음...."
     ]
    },
    {
     "name": "stderr",
     "output_type": "stream",
     "text": [
      " 24%|██▍       | 7/29 [08:32<26:10, 71.38s/it]"
     ]
    },
    {
     "name": "stdout",
     "output_type": "stream",
     "text": [
      "\n",
      "🔄 71초 대기 완료, 다음 트윗 게시\n",
      "이미지 image/25010188_p.gif 이미 다운로드됨, 스킵합니다.\n",
      "https://twitter.com/gamsahanticket/status/1947248103662456980\n",
      "🔄 ［강남 퇴근길 콘서트］ 앙상블로 듣는 지브리 트윗 게시 완료\n",
      "⏰ 다음 트윗까지 1초 남음...."
     ]
    },
    {
     "name": "stderr",
     "output_type": "stream",
     "text": [
      " 28%|██▊       | 8/29 [09:57<26:28, 75.64s/it]"
     ]
    },
    {
     "name": "stdout",
     "output_type": "stream",
     "text": [
      "\n",
      "🔄 83초 대기 완료, 다음 트윗 게시\n",
      "이미지 image/25010301_p.gif 이미 다운로드됨, 스킵합니다.\n",
      "https://twitter.com/gamsahanticket/status/1947248458601300184\n",
      "🔄 2025 유채훈 크로스오버 콘서트 〈IL MONDO〉 트윗 게시 완료\n",
      "⏰ 다음 트윗까지 1초 남음...."
     ]
    },
    {
     "name": "stderr",
     "output_type": "stream",
     "text": [
      " 31%|███       | 9/29 [11:02<24:03, 72.15s/it]"
     ]
    },
    {
     "name": "stdout",
     "output_type": "stream",
     "text": [
      "\n",
      "🔄 63초 대기 완료, 다음 트윗 게시\n",
      "이미지 image/25009724_p.gif 이미 다운로드됨, 스킵합니다.\n",
      "https://twitter.com/gamsahanticket/status/1947248730325090713\n",
      "🔄 더 로즈(The Rose) Once Upon A WRLD Tour in Seoul  트윗 게시 완료\n",
      "⏰ 다음 트윗까지 1초 남음...."
     ]
    },
    {
     "name": "stderr",
     "output_type": "stream",
     "text": [
      " 34%|███▍      | 10/29 [12:19<23:19, 73.63s/it]"
     ]
    },
    {
     "name": "stdout",
     "output_type": "stream",
     "text": [
      "\n",
      "🔄 75초 대기 완료, 다음 트윗 게시\n",
      "이미지 image/2025071717462338.jpg 이미 다운로드됨, 스킵합니다.\n",
      "https://twitter.com/gamsahanticket/status/1947249053580022159\n",
      "🔄 〈미스터트롯3〉 전국투어 콘서트 - 앵콜 트윗 게시 완료\n",
      "⏰ 다음 트윗까지 1초 남음...."
     ]
    },
    {
     "name": "stderr",
     "output_type": "stream",
     "text": [
      " 38%|███▊      | 11/29 [13:43<23:03, 76.84s/it]"
     ]
    },
    {
     "name": "stdout",
     "output_type": "stream",
     "text": [
      "\n",
      "🔄 82초 대기 완료, 다음 트윗 게시\n",
      "이미지 image/25010465_p.gif 이미 다운로드됨, 스킵합니다.\n",
      "https://twitter.com/gamsahanticket/status/1947249404869841172\n",
      "🔄 PEAKBOX 2025 : 사랑  트윗 게시 완료\n",
      "⏰ 다음 트윗까지 1초 남음...."
     ]
    },
    {
     "name": "stderr",
     "output_type": "stream",
     "text": [
      " 41%|████▏     | 12/29 [15:15<23:04, 81.42s/it]"
     ]
    },
    {
     "name": "stdout",
     "output_type": "stream",
     "text": [
      "\n",
      "🔄 90초 대기 완료, 다음 트윗 게시\n",
      "이미지 image/25010343_p.gif 이미 다운로드됨, 스킵합니다.\n",
      "https://twitter.com/gamsahanticket/status/1947249790397665775\n",
      "🔄 PEAKBOX 2025 : 청춘 트윗 게시 완료\n",
      "⏰ 다음 트윗까지 1초 남음...."
     ]
    },
    {
     "name": "stderr",
     "output_type": "stream",
     "text": [
      " 45%|████▍     | 13/29 [16:33<21:30, 80.64s/it]"
     ]
    },
    {
     "name": "stdout",
     "output_type": "stream",
     "text": [
      "\n",
      "🔄 77초 대기 완료, 다음 트윗 게시\n",
      "이미지 image/25010437_p.gif 이미 다운로드됨, 스킵합니다.\n",
      "https://twitter.com/gamsahanticket/status/1947250121781158290\n",
      "🔄 PEAKBOX 2025 : 행복 트윗 게시 완료\n",
      "⏰ 다음 트윗까지 1초 남음...."
     ]
    },
    {
     "name": "stderr",
     "output_type": "stream",
     "text": [
      " 48%|████▊     | 14/29 [17:50<19:52, 79.50s/it]"
     ]
    },
    {
     "name": "stdout",
     "output_type": "stream",
     "text": [
      "\n",
      "🔄 75초 대기 완료, 다음 트윗 게시\n",
      "이미지 image/2025063012302095.jpg 이미 다운로드됨, 스킵합니다.\n",
      "https://twitter.com/gamsahanticket/status/1947250444813939021\n",
      "🔄 Invitation from Gensokyo 2025 ~ Midnight Concerto (동방프로젝트 오케스트라 콘서트)  트윗 게시 완료\n",
      "⏰ 다음 트윗까지 1초 남음...."
     ]
    },
    {
     "name": "stderr",
     "output_type": "stream",
     "text": [
      " 52%|█████▏    | 15/29 [18:57<17:40, 75.73s/it]"
     ]
    },
    {
     "name": "stdout",
     "output_type": "stream",
     "text": [
      "\n",
      "🔄 65초 대기 완료, 다음 트윗 게시\n",
      "이미지 image/20250716035958.jpg 이미 다운로드됨, 스킵합니다.\n",
      "https://twitter.com/gamsahanticket/status/1947250724196495503\n",
      "🔄 2025 실리카겔 단독공연 Syn.THE.Size X  트윗 게시 완료\n",
      "⏰ 다음 트윗까지 1초 남음...."
     ]
    },
    {
     "name": "stderr",
     "output_type": "stream",
     "text": [
      " 55%|█████▌    | 16/29 [20:27<17:19, 79.97s/it]"
     ]
    },
    {
     "name": "stdout",
     "output_type": "stream",
     "text": [
      "\n",
      "🔄 88초 대기 완료, 다음 트윗 게시\n",
      "이미지 image/25006050_p.gif 이미 다운로드됨, 스킵합니다.\n",
      "https://twitter.com/gamsahanticket/status/1947251100840820940\n",
      "🔄 뮤지컬 〈프리다〉  트윗 게시 완료\n",
      "⏰ 다음 트윗까지 1초 남음...."
     ]
    },
    {
     "name": "stderr",
     "output_type": "stream",
     "text": [
      " 59%|█████▊    | 17/29 [21:48<16:02, 80.17s/it]"
     ]
    },
    {
     "name": "stdout",
     "output_type": "stream",
     "text": [
      "\n",
      "🔄 79초 대기 완료, 다음 트윗 게시\n",
      "이미지 image/25005672_p.gif 이미 다운로드됨, 스킵합니다.\n"
     ]
    },
    {
     "name": "stderr",
     "output_type": "stream",
     "text": [
      " 59%|█████▊    | 17/29 [21:48<15:23, 77.00s/it]\n"
     ]
    },
    {
     "ename": "TooManyRequests",
     "evalue": "429 Too Many Requests\nToo Many Requests",
     "output_type": "error",
     "traceback": [
      "\u001b[1;31m---------------------------------------------------------------------------\u001b[0m",
      "\u001b[1;31mTooManyRequests\u001b[0m                           Traceback (most recent call last)",
      "Cell \u001b[1;32mIn[21], line 52\u001b[0m\n\u001b[0;32m     50\u001b[0m text \u001b[38;5;241m=\u001b[39m row[\u001b[38;5;124m'\u001b[39m\u001b[38;5;124m트위터\u001b[39m\u001b[38;5;124m'\u001b[39m]\n\u001b[0;32m     51\u001b[0m image_url \u001b[38;5;241m=\u001b[39m row[\u001b[38;5;124m'\u001b[39m\u001b[38;5;124mImage\u001b[39m\u001b[38;5;124m'\u001b[39m]\n\u001b[1;32m---> 52\u001b[0m \u001b[43mPostTweet\u001b[49m\u001b[43m(\u001b[49m\u001b[43m)\u001b[49m\u001b[38;5;241;43m.\u001b[39;49m\u001b[43mpost\u001b[49m\u001b[43m(\u001b[49m\u001b[43mtext\u001b[49m\u001b[43m,\u001b[49m\u001b[43m \u001b[49m\u001b[43mimage_url\u001b[49m\u001b[43m)\u001b[49m\n\u001b[0;32m     53\u001b[0m \u001b[38;5;28mprint\u001b[39m(\u001b[38;5;124mf\u001b[39m\u001b[38;5;124m\"\u001b[39m\u001b[38;5;124m🔄 \u001b[39m\u001b[38;5;132;01m{\u001b[39;00mtitle\u001b[38;5;132;01m}\u001b[39;00m\u001b[38;5;124m 트윗 게시 완료\u001b[39m\u001b[38;5;124m\"\u001b[39m)\n\u001b[0;32m     54\u001b[0m sleep_time \u001b[38;5;241m=\u001b[39m random\u001b[38;5;241m.\u001b[39mrandint(\u001b[38;5;241m60\u001b[39m, \u001b[38;5;241m90\u001b[39m)\n",
      "Cell \u001b[1;32mIn[21], line 44\u001b[0m, in \u001b[0;36mPostTweet.post\u001b[1;34m(self, text, image_url)\u001b[0m\n\u001b[0;32m     41\u001b[0m         media \u001b[38;5;241m=\u001b[39m \u001b[38;5;28mself\u001b[39m\u001b[38;5;241m.\u001b[39mapi\u001b[38;5;241m.\u001b[39mmedia_upload(path)\n\u001b[0;32m     42\u001b[0m         media_ids\u001b[38;5;241m.\u001b[39mappend(media\u001b[38;5;241m.\u001b[39mmedia_id)\n\u001b[1;32m---> 44\u001b[0m tweet \u001b[38;5;241m=\u001b[39m \u001b[38;5;28;43mself\u001b[39;49m\u001b[38;5;241;43m.\u001b[39;49m\u001b[43mclient\u001b[49m\u001b[38;5;241;43m.\u001b[39;49m\u001b[43mcreate_tweet\u001b[49m\u001b[43m(\u001b[49m\u001b[43mtext\u001b[49m\u001b[38;5;241;43m=\u001b[39;49m\u001b[43mtext\u001b[49m\u001b[43m,\u001b[49m\u001b[43m \u001b[49m\u001b[43mmedia_ids\u001b[49m\u001b[38;5;241;43m=\u001b[39;49m\u001b[43mmedia_ids\u001b[49m\u001b[43m \u001b[49m\u001b[38;5;28;43;01mif\u001b[39;49;00m\u001b[43m \u001b[49m\u001b[43mmedia_ids\u001b[49m\u001b[43m \u001b[49m\u001b[38;5;28;43;01melse\u001b[39;49;00m\u001b[43m \u001b[49m\u001b[38;5;28;43;01mNone\u001b[39;49;00m\u001b[43m)\u001b[49m\n\u001b[0;32m     45\u001b[0m \u001b[38;5;28mprint\u001b[39m(\u001b[38;5;124mf\u001b[39m\u001b[38;5;124m\"\u001b[39m\u001b[38;5;124mhttps://twitter.com/gamsahanticket/status/\u001b[39m\u001b[38;5;132;01m{\u001b[39;00mtweet\u001b[38;5;241m.\u001b[39mdata[\u001b[38;5;124m'\u001b[39m\u001b[38;5;124mid\u001b[39m\u001b[38;5;124m'\u001b[39m]\u001b[38;5;132;01m}\u001b[39;00m\u001b[38;5;124m\"\u001b[39m)\n",
      "File \u001b[1;32mc:\\2025\\1_Coding\\telegram-inter\\venv\\lib\\site-packages\\tweepy\\client.py:845\u001b[0m, in \u001b[0;36mClient.create_tweet\u001b[1;34m(self, direct_message_deep_link, for_super_followers_only, place_id, media_ids, media_tagged_user_ids, poll_duration_minutes, poll_options, quote_tweet_id, exclude_reply_user_ids, in_reply_to_tweet_id, reply_settings, text, user_auth, community_id)\u001b[0m\n\u001b[0;32m    842\u001b[0m \u001b[38;5;28;01mif\u001b[39;00m text \u001b[38;5;129;01mis\u001b[39;00m \u001b[38;5;129;01mnot\u001b[39;00m \u001b[38;5;28;01mNone\u001b[39;00m:\n\u001b[0;32m    843\u001b[0m     json[\u001b[38;5;124m\"\u001b[39m\u001b[38;5;124mtext\u001b[39m\u001b[38;5;124m\"\u001b[39m] \u001b[38;5;241m=\u001b[39m text\n\u001b[1;32m--> 845\u001b[0m \u001b[38;5;28;01mreturn\u001b[39;00m \u001b[38;5;28;43mself\u001b[39;49m\u001b[38;5;241;43m.\u001b[39;49m\u001b[43m_make_request\u001b[49m\u001b[43m(\u001b[49m\n\u001b[0;32m    846\u001b[0m \u001b[43m    \u001b[49m\u001b[38;5;124;43m\"\u001b[39;49m\u001b[38;5;124;43mPOST\u001b[39;49m\u001b[38;5;124;43m\"\u001b[39;49m\u001b[43m,\u001b[49m\u001b[43m \u001b[49m\u001b[38;5;124;43mf\u001b[39;49m\u001b[38;5;124;43m\"\u001b[39;49m\u001b[38;5;124;43m/2/tweets\u001b[39;49m\u001b[38;5;124;43m\"\u001b[39;49m\u001b[43m,\u001b[49m\u001b[43m \u001b[49m\u001b[43mjson\u001b[49m\u001b[38;5;241;43m=\u001b[39;49m\u001b[43mjson\u001b[49m\u001b[43m,\u001b[49m\u001b[43m \u001b[49m\u001b[43muser_auth\u001b[49m\u001b[38;5;241;43m=\u001b[39;49m\u001b[43muser_auth\u001b[49m\n\u001b[0;32m    847\u001b[0m \u001b[43m\u001b[49m\u001b[43m)\u001b[49m\n",
      "File \u001b[1;32mc:\\2025\\1_Coding\\telegram-inter\\venv\\lib\\site-packages\\tweepy\\client.py:129\u001b[0m, in \u001b[0;36mBaseClient._make_request\u001b[1;34m(self, method, route, params, endpoint_parameters, json, data_type, user_auth)\u001b[0m\n\u001b[0;32m    123\u001b[0m \u001b[38;5;28;01mdef\u001b[39;00m\u001b[38;5;250m \u001b[39m\u001b[38;5;21m_make_request\u001b[39m(\n\u001b[0;32m    124\u001b[0m     \u001b[38;5;28mself\u001b[39m, method, route, params\u001b[38;5;241m=\u001b[39m{}, endpoint_parameters\u001b[38;5;241m=\u001b[39m(), json\u001b[38;5;241m=\u001b[39m\u001b[38;5;28;01mNone\u001b[39;00m,\n\u001b[0;32m    125\u001b[0m     data_type\u001b[38;5;241m=\u001b[39m\u001b[38;5;28;01mNone\u001b[39;00m, user_auth\u001b[38;5;241m=\u001b[39m\u001b[38;5;28;01mFalse\u001b[39;00m\n\u001b[0;32m    126\u001b[0m ):\n\u001b[0;32m    127\u001b[0m     request_params \u001b[38;5;241m=\u001b[39m \u001b[38;5;28mself\u001b[39m\u001b[38;5;241m.\u001b[39m_process_params(params, endpoint_parameters)\n\u001b[1;32m--> 129\u001b[0m     response \u001b[38;5;241m=\u001b[39m \u001b[38;5;28;43mself\u001b[39;49m\u001b[38;5;241;43m.\u001b[39;49m\u001b[43mrequest\u001b[49m\u001b[43m(\u001b[49m\u001b[43mmethod\u001b[49m\u001b[43m,\u001b[49m\u001b[43m \u001b[49m\u001b[43mroute\u001b[49m\u001b[43m,\u001b[49m\u001b[43m \u001b[49m\u001b[43mparams\u001b[49m\u001b[38;5;241;43m=\u001b[39;49m\u001b[43mrequest_params\u001b[49m\u001b[43m,\u001b[49m\n\u001b[0;32m    130\u001b[0m \u001b[43m                            \u001b[49m\u001b[43mjson\u001b[49m\u001b[38;5;241;43m=\u001b[39;49m\u001b[43mjson\u001b[49m\u001b[43m,\u001b[49m\u001b[43m \u001b[49m\u001b[43muser_auth\u001b[49m\u001b[38;5;241;43m=\u001b[39;49m\u001b[43muser_auth\u001b[49m\u001b[43m)\u001b[49m\n\u001b[0;32m    132\u001b[0m     \u001b[38;5;28;01mif\u001b[39;00m \u001b[38;5;28mself\u001b[39m\u001b[38;5;241m.\u001b[39mreturn_type \u001b[38;5;129;01mis\u001b[39;00m requests\u001b[38;5;241m.\u001b[39mResponse:\n\u001b[0;32m    133\u001b[0m         \u001b[38;5;28;01mreturn\u001b[39;00m response\n",
      "File \u001b[1;32mc:\\2025\\1_Coding\\telegram-inter\\venv\\lib\\site-packages\\tweepy\\client.py:115\u001b[0m, in \u001b[0;36mBaseClient.request\u001b[1;34m(self, method, route, params, json, user_auth)\u001b[0m\n\u001b[0;32m    113\u001b[0m         \u001b[38;5;28;01mreturn\u001b[39;00m \u001b[38;5;28mself\u001b[39m\u001b[38;5;241m.\u001b[39mrequest(method, route, params, json, user_auth)\n\u001b[0;32m    114\u001b[0m     \u001b[38;5;28;01melse\u001b[39;00m:\n\u001b[1;32m--> 115\u001b[0m         \u001b[38;5;28;01mraise\u001b[39;00m TooManyRequests(response)\n\u001b[0;32m    116\u001b[0m \u001b[38;5;28;01mif\u001b[39;00m response\u001b[38;5;241m.\u001b[39mstatus_code \u001b[38;5;241m>\u001b[39m\u001b[38;5;241m=\u001b[39m \u001b[38;5;241m500\u001b[39m:\n\u001b[0;32m    117\u001b[0m     \u001b[38;5;28;01mraise\u001b[39;00m TwitterServerError(response)\n",
      "\u001b[1;31mTooManyRequests\u001b[0m: 429 Too Many Requests\nToo Many Requests"
     ]
    }
   ],
   "source": [
    "import os\n",
    "import tweepy\n",
    "import requests\n",
    "from dotenv import load_dotenv\n",
    "import time\n",
    "import random\n",
    "from tqdm import tqdm\n",
    "\n",
    "load_dotenv()\n",
    "\n",
    "class PostTweet:\n",
    "    def __init__(self):\n",
    "        auth = tweepy.OAuthHandler(os.getenv('TWITTER_API_KEY'), os.getenv('TWITTER_API_SECRET'))\n",
    "        auth.set_access_token(os.getenv('TWITTER_ACCESS_TOKEN'), os.getenv('TWITTER_ACCESS_TOKEN_SECRET'))\n",
    "        self.api = tweepy.API(auth)\n",
    "        self.client = tweepy.Client(\n",
    "            consumer_key=os.getenv('TWITTER_API_KEY'),\n",
    "            consumer_secret=os.getenv('TWITTER_API_SECRET'),\n",
    "            access_token=os.getenv('TWITTER_ACCESS_TOKEN'),\n",
    "            access_token_secret=os.getenv('TWITTER_ACCESS_TOKEN_SECRET')\n",
    "        )\n",
    "\n",
    "    def _download_image(self, url):\n",
    "        path = f\"image/{url.split('/')[-1]}\"\n",
    "        if os.path.exists(path):\n",
    "            print(f\"이미지 {path} 이미 다운로드됨, 스킵합니다.\")\n",
    "            return path\n",
    "        r = requests.get(url, stream=True)\n",
    "        if r.status_code == 200:\n",
    "            with open(path, \"wb\") as f:\n",
    "                for chunk in r.iter_content(1024):\n",
    "                    f.write(chunk)\n",
    "            return path\n",
    "        return None\n",
    "\n",
    "    def post(self, text, image_url=None):\n",
    "        media_ids = []\n",
    "        if image_url:\n",
    "            path = self._download_image(image_url)\n",
    "            if path:\n",
    "                media = self.api.media_upload(path)\n",
    "                media_ids.append(media.media_id)\n",
    "\n",
    "        tweet = self.client.create_tweet(text=text, media_ids=media_ids if media_ids else None)\n",
    "        print(f\"https://twitter.com/gamsahanticket/status/{tweet.data['id']}\")\n",
    "\n",
    "\n",
    "for _, row in tqdm(df.iterrows(), total=len(df)):\n",
    "    title = row['제목']\n",
    "    text = row['트위터']\n",
    "    image_url = row['Image']\n",
    "    PostTweet().post(text, image_url)\n",
    "    print(f\"🔄 {title} 트윗 게시 완료\")\n",
    "    sleep_time = random.randint(60, 90)\n",
    "    \n",
    "    # 실시간 카운트다운\n",
    "    for remaining in range(sleep_time, 0, -1):\n",
    "        print(f\"\\r⏰ 다음 트윗까지 {remaining}초 남음...\", end=\"\", flush=True)\n",
    "        time.sleep(1)\n",
    "    \n",
    "    print(f\"\\n🔄 {sleep_time}초 대기 완료, 다음 트윗 게시\")\n"
   ]
  },
  {
   "cell_type": "code",
   "execution_count": null,
   "metadata": {},
   "outputs": [
    {
     "name": "stderr",
     "output_type": "stream",
     "text": [
      "  0%|          | 0/31 [00:00<?, ?it/s]"
     ]
    },
    {
     "name": "stdout",
     "output_type": "stream",
     "text": [
      "{'Date': 'Mon, 21 Jul 2025 11:31:35 GMT', 'Content-Type': 'application/json; charset=utf-8', 'Content-Length': '94', 'Connection': 'keep-alive', 'perf': '7402827104', 'Set-Cookie': 'guest_id_marketing=v1%3A175309749535876950; Max-Age=63072000; Expires=Wed, 21 Jul 2027 11:31:35 GMT; Path=/; Domain=.twitter.com; Secure; SameSite=None, guest_id_ads=v1%3A175309749535876950; Max-Age=63072000; Expires=Wed, 21 Jul 2027 11:31:35 GMT; Path=/; Domain=.twitter.com; Secure; SameSite=None, personalization_id=\"v1_QjaQ0hp7CyfocfAKZe4NiA==\"; Max-Age=63072000; Expires=Wed, 21 Jul 2027 11:31:35 GMT; Path=/; Domain=.twitter.com; Secure; SameSite=None, guest_id=v1%3A175309749535876950; Max-Age=63072000; Expires=Wed, 21 Jul 2027 11:31:35 GMT; Path=/; Domain=.twitter.com; Secure; SameSite=None, __cf_bm=65LSiHHFoT1dRIvO1BI1WActQaJyReC4p.j0QihrbHI-1753097495-1.0.1.1-dIB7uZxM_qaG7FGoP3nXWOf9nKxxJplwMkMMm0ZN4iMdGE6_8laeG6FfmhGDpRz5oh6Yfc71L1QdvgBhiPGWd0FP62AKfUhQflEPrxu0FZg; path=/; expires=Mon, 21-Jul-25 12:01:35 GMT; domain=.twitter.com; HttpOnly; Secure; SameSite=None', 'api-version': '2.144', 'Cache-Control': 'no-cache, no-store, max-age=0', 'x-access-level': 'read-write', 'x-frame-options': 'SAMEORIGIN', 'Content-Encoding': 'gzip', 'x-transaction-id': '90fb7ee6c917f42f', 'x-xss-protection': '0', 'x-rate-limit-limit': '1080000', 'x-rate-limit-reset': '1753098288', 'content-disposition': 'attachment; filename=json.json', 'x-content-type-options': 'nosniff', 'x-rate-limit-remaining': '1079998', 'x-app-limit-24hour-limit': '17', 'x-app-limit-24hour-reset': '1753180987', 'x-user-limit-24hour-limit': '17', 'x-user-limit-24hour-reset': '1753180987', 'x-app-limit-24hour-remaining': '0', 'x-user-limit-24hour-remaining': '0', 'strict-transport-security': 'max-age=631138519; includeSubdomains', 'x-response-time': '14', 'x-connection-hash': '8ca9699180aa87c99bfa24e3a58493237d02af8010426cd921025db14411db1a', 'vary': 'accept-encoding', 'cf-cache-status': 'DYNAMIC', 'Server': 'cloudflare tsa_p', 'CF-RAY': '962a5f717a94ea10-ICN'}\n",
      "🚫 텍스트 트윗 Rate Limit! 797초 대기\n"
     ]
    }
   ],
   "source": [
    "import os\n",
    "import tweepy\n",
    "import requests\n",
    "from dotenv import load_dotenv\n",
    "import time\n",
    "import random\n",
    "from tqdm import tqdm\n",
    "from requests_oauthlib import OAuth1\n",
    "\n",
    "load_dotenv()\n",
    "\n",
    "class PostTweet:\n",
    "    def __init__(self):\n",
    "        # OAuth 1.0 인증\n",
    "        self.auth = tweepy.OAuthHandler(os.getenv('TWITTER_API_KEY'), os.getenv('TWITTER_API_SECRET'))\n",
    "        self.auth.set_access_token(os.getenv('TWITTER_ACCESS_TOKEN'), os.getenv('TWITTER_ACCESS_TOKEN_SECRET'))\n",
    "        self.api = tweepy.API(self.auth)\n",
    "\n",
    "        # OAuth 2.0 클라이언트\n",
    "        self.client = tweepy.Client(\n",
    "            consumer_key=os.getenv('TWITTER_API_KEY'),\n",
    "            consumer_secret=os.getenv('TWITTER_API_SECRET'),\n",
    "            access_token=os.getenv('TWITTER_ACCESS_TOKEN'),\n",
    "            access_token_secret=os.getenv('TWITTER_ACCESS_TOKEN_SECRET')\n",
    "        )\n",
    "\n",
    "    def _download_image(self, url):\n",
    "        path = f\"image/{url.split('/')[-1]}\"\n",
    "        if os.path.exists(path):\n",
    "            print(f\"📁 이미지 {path} 이미 존재. 스킵함.\")\n",
    "            return path\n",
    "        r = requests.get(url, stream=True)\n",
    "        if r.status_code == 200:\n",
    "            with open(path, \"wb\") as f:\n",
    "                for chunk in r.iter_content(1024):\n",
    "                    f.write(chunk)\n",
    "            return path\n",
    "        print(\"❌ 이미지 다운로드 실패\")\n",
    "        return None\n",
    "\n",
    "    def _safe_media_upload(self, path):\n",
    "        try:\n",
    "            media = self.api.media_upload(path)\n",
    "            return media.media_id\n",
    "        except tweepy.TooManyRequests as e:\n",
    "            reset_ts = int(e.response.headers.get(\"x-rate-limit-reset\", time.time() + 900))\n",
    "            wait_time = int(reset_ts - time.time()) + 5\n",
    "            print(f\"💣 이미지 업로드 제한! {wait_time}초 대기\")\n",
    "            time.sleep(wait_time)\n",
    "            return None\n",
    "        except Exception as e:\n",
    "            print(f\"❌ 이미지 업로드 에러: {e}\")\n",
    "            return None\n",
    "\n",
    "    def post(self, text, image_url=None):\n",
    "        media_ids = []\n",
    "        if image_url:\n",
    "            path = self._download_image(image_url)\n",
    "            if path:\n",
    "                media_id = self._safe_media_upload(path)\n",
    "                if media_id:\n",
    "                    media_ids.append(media_id)\n",
    "\n",
    "        try:\n",
    "            tweet = self.client.create_tweet(text=text, media_ids=media_ids if media_ids else None)\n",
    "            tweet_url = f\"https://twitter.com/gamsahanticket/status/{tweet.data['id']}\"\n",
    "            print(f\"✅ 트윗 성공: {tweet_url}\")\n",
    "        except tweepy.TooManyRequests as e:\n",
    "            reset_ts = int(e.response.headers.get(\"x-rate-limit-reset\", time.time() + 900))\n",
    "            print(e.response.headers)\n",
    "            wait_time = int(reset_ts - time.time()) + 5\n",
    "            print(f\"🚫 텍스트 트윗 Rate Limit! {wait_time}초 대기\")\n",
    "            time.sleep(wait_time)\n",
    "        except Exception as e:\n",
    "            print(f\"❌ 트윗 에러: {e}\")\n",
    "\n",
    "import pandas as pd\n",
    "import time\n",
    "import random\n",
    "from tqdm import tqdm\n",
    "\n",
    "# 예시 DataFrame\n",
    "\n",
    "for _, row in tqdm(df.iterrows(), total=len(df)):\n",
    "    title = row['제목']\n",
    "    text = row['트위터']\n",
    "    image_url = row['Image']\n",
    "\n",
    "    PostTweet().post(text, image_url)\n",
    "    print(f\"🔄 {title} 트윗 완료\")\n",
    "\n",
    "    sleep_time = random.randint(60, 90)\n",
    "    for remaining in range(sleep_time, 0, -1):\n",
    "        print(f\"\\r⏰ 다음 트윗까지 {remaining}초 남음...\", end=\"\", flush=True)\n",
    "        time.sleep(1)\n",
    "    print(f\"\\n⏱ {sleep_time}초 대기 완료\")\n"
   ]
  },
  {
   "cell_type": "code",
   "execution_count": null,
   "metadata": {},
   "outputs": [],
   "source": [
    "{'Date': 'Mon, 21 Jul 2025 11:31:35 GMT', 'Content-Type': 'application/json; charset=utf-8', 'Content-Length': '94', 'Connection': 'keep-alive', 'perf': '7402827104', 'Set-Cookie': 'guest_id_marketing=v1%3A175309749535876950; Max-Age=63072000; Expires=Wed, 21 Jul 2027 11:31:35 GMT; Path=/; Domain=.twitter.com; Secure; SameSite=None, guest_id_ads=v1%3A175309749535876950; Max-Age=63072000; Expires=Wed, 21 Jul 2027 11:31:35 GMT; Path=/; Domain=.twitter.com; Secure; SameSite=None, personalization_id=\"v1_QjaQ0hp7CyfocfAKZe4NiA==\"; Max-Age=63072000; Expires=Wed, 21 Jul 2027 11:31:35 GMT; Path=/; Domain=.twitter.com; Secure; SameSite=None, guest_id=v1%3A175309749535876950; Max-Age=63072000; Expires=Wed, 21 Jul 2027 11:31:35 GMT; Path=/; Domain=.twitter.com; Secure; SameSite=None, __cf_bm=65LSiHHFoT1dRIvO1BI1WActQaJyReC4p.j0QihrbHI-1753097495-1.0.1.1-dIB7uZxM_qaG7FGoP3nXWOf9nKxxJplwMkMMm0ZN4iMdGE6_8laeG6FfmhGDpRz5oh6Yfc71L1QdvgBhiPGWd0FP62AKfUhQflEPrxu0FZg; path=/; expires=Mon, 21-Jul-25 12:01:35 GMT; domain=.twitter.com; HttpOnly; Secure; SameSite=None', 'api-version': '2.144', 'Cache-Control': 'no-cache, no-store, max-age=0', 'x-access-level': 'read-write', 'x-frame-options': 'SAMEORIGIN', 'Content-Encoding': 'gzip', 'x-transaction-id': '90fb7ee6c917f42f', 'x-xss-protection': '0', 'x-rate-limit-limit': '1080000', 'x-rate-limit-reset': '1753098288', 'content-disposition': 'attachment; filename=json.json', 'x-content-type-options': 'nosniff', 'x-rate-limit-remaining': '1079998', 'x-app-limit-24hour-limit': '17', 'x-app-limit-24hour-reset': '1753180987', 'x-user-limit-24hour-limit': '17', 'x-user-limit-24hour-reset': '1753180987', 'x-app-limit-24hour-remaining': '0', 'x-user-limit-24hour-remaining': '0', 'strict-transport-security': 'max-age=631138519; includeSubdomains', 'x-response-time': '14', 'x-connection-hash': '8ca9699180aa87c99bfa24e3a58493237d02af8010426cd921025db14411db1a', 'vary': 'accept-encoding', 'cf-cache-status': 'DYNAMIC', 'Server': 'cloudflare tsa_p', 'CF-RAY': '962a5f717a94ea10-ICN'}\n"
   ]
  }
 ],
 "metadata": {
  "kernelspec": {
   "display_name": "venv",
   "language": "python",
   "name": "python3"
  },
  "language_info": {
   "codemirror_mode": {
    "name": "ipython",
    "version": 3
   },
   "file_extension": ".py",
   "mimetype": "text/x-python",
   "name": "python",
   "nbconvert_exporter": "python",
   "pygments_lexer": "ipython3",
   "version": "3.9.13"
  }
 },
 "nbformat": 4,
 "nbformat_minor": 2
}
